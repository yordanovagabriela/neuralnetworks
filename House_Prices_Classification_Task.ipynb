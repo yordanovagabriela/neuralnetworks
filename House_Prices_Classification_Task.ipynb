{
  "nbformat": 4,
  "nbformat_minor": 0,
  "metadata": {
    "colab": {
      "name": "House_Prices_Classification_Task.ipynb",
      "provenance": [],
      "collapsed_sections": [],
      "toc_visible": true,
      "include_colab_link": true
    },
    "kernelspec": {
      "name": "python3",
      "display_name": "Python 3"
    },
    "accelerator": "GPU"
  },
  "cells": [
    {
      "cell_type": "markdown",
      "metadata": {
        "id": "view-in-github",
        "colab_type": "text"
      },
      "source": [
        "<a href=\"https://colab.research.google.com/github/yordanovagabriela/neuralnetworks/blob/master/House_Prices_Classification_Task.ipynb\" target=\"_parent\"><img src=\"https://colab.research.google.com/assets/colab-badge.svg\" alt=\"Open In Colab\"/></a>"
      ]
    },
    {
      "cell_type": "markdown",
      "metadata": {
        "id": "v-VN8FrXJ_ji",
        "colab_type": "text"
      },
      "source": [
        "# Load Libraries"
      ]
    },
    {
      "cell_type": "code",
      "metadata": {
        "tags": [],
        "id": "R5mF6jXqOSj4",
        "colab_type": "code",
        "colab": {
          "base_uri": "https://localhost:8080/",
          "height": 155
        },
        "outputId": "d100828b-279c-482c-fef9-730524520255"
      },
      "source": [
        "!pip install keras"
      ],
      "execution_count": 186,
      "outputs": [
        {
          "output_type": "stream",
          "text": [
            "Requirement already satisfied: keras in /usr/local/lib/python3.6/dist-packages (2.3.1)\n",
            "Requirement already satisfied: keras-preprocessing>=1.0.5 in /usr/local/lib/python3.6/dist-packages (from keras) (1.1.2)\n",
            "Requirement already satisfied: numpy>=1.9.1 in /usr/local/lib/python3.6/dist-packages (from keras) (1.18.5)\n",
            "Requirement already satisfied: scipy>=0.14 in /usr/local/lib/python3.6/dist-packages (from keras) (1.4.1)\n",
            "Requirement already satisfied: keras-applications>=1.0.6 in /usr/local/lib/python3.6/dist-packages (from keras) (1.0.8)\n",
            "Requirement already satisfied: six>=1.9.0 in /usr/local/lib/python3.6/dist-packages (from keras) (1.12.0)\n",
            "Requirement already satisfied: pyyaml in /usr/local/lib/python3.6/dist-packages (from keras) (3.13)\n",
            "Requirement already satisfied: h5py in /usr/local/lib/python3.6/dist-packages (from keras) (2.10.0)\n"
          ],
          "name": "stdout"
        }
      ]
    },
    {
      "cell_type": "code",
      "metadata": {
        "id": "ili59nUGLs88",
        "colab_type": "code",
        "tags": [],
        "colab": {
          "base_uri": "https://localhost:8080/",
          "height": 34
        },
        "outputId": "55405d05-9154-42cb-e676-7b190f544398"
      },
      "source": [
        "import pandas as pd\n",
        "import numpy as np\n",
        "import matplotlib.pyplot as plt\n",
        "import keras\n",
        "import tensorflow as tf\n",
        "\n",
        "from keras.utils import to_categorical\n",
        "\n",
        "from tensorflow import keras\n",
        "from tensorflow.keras import layers\n",
        "from tensorflow.keras.models import Sequential\n",
        "from tensorflow.keras.layers import Dense\n",
        "\n",
        "from sklearn.preprocessing import MinMaxScaler\n",
        "from sklearn.preprocessing import StandardScaler, MinMaxScaler\n",
        "from sklearn.model_selection import train_test_split\n",
        "\n",
        "print(tf.__version__)"
      ],
      "execution_count": 187,
      "outputs": [
        {
          "output_type": "stream",
          "text": [
            "2.2.0\n"
          ],
          "name": "stdout"
        }
      ]
    },
    {
      "cell_type": "markdown",
      "metadata": {
        "id": "NTP7rPJOKHKk",
        "colab_type": "text"
      },
      "source": [
        "# Load Dataset"
      ]
    },
    {
      "cell_type": "code",
      "metadata": {
        "id": "fAmWwfvXKIvf",
        "colab_type": "code",
        "colab": {
          "base_uri": "https://localhost:8080/",
          "height": 218
        },
        "outputId": "b049dc1f-6afc-45fa-f509-d06358fec3ee"
      },
      "source": [
        "dataset = pd.read_csv('./kc_house_data.csv')\n",
        "dataset.head(5)"
      ],
      "execution_count": 188,
      "outputs": [
        {
          "output_type": "execute_result",
          "data": {
            "text/html": [
              "<div>\n",
              "<style scoped>\n",
              "    .dataframe tbody tr th:only-of-type {\n",
              "        vertical-align: middle;\n",
              "    }\n",
              "\n",
              "    .dataframe tbody tr th {\n",
              "        vertical-align: top;\n",
              "    }\n",
              "\n",
              "    .dataframe thead th {\n",
              "        text-align: right;\n",
              "    }\n",
              "</style>\n",
              "<table border=\"1\" class=\"dataframe\">\n",
              "  <thead>\n",
              "    <tr style=\"text-align: right;\">\n",
              "      <th></th>\n",
              "      <th>id</th>\n",
              "      <th>date</th>\n",
              "      <th>price</th>\n",
              "      <th>bedrooms</th>\n",
              "      <th>bathrooms</th>\n",
              "      <th>sqft_living</th>\n",
              "      <th>sqft_lot</th>\n",
              "      <th>floors</th>\n",
              "      <th>waterfront</th>\n",
              "      <th>view</th>\n",
              "      <th>condition</th>\n",
              "      <th>grade</th>\n",
              "      <th>sqft_above</th>\n",
              "      <th>sqft_basement</th>\n",
              "      <th>yr_built</th>\n",
              "      <th>yr_renovated</th>\n",
              "      <th>zipcode</th>\n",
              "      <th>lat</th>\n",
              "      <th>long</th>\n",
              "      <th>sqft_living15</th>\n",
              "      <th>sqft_lot15</th>\n",
              "    </tr>\n",
              "  </thead>\n",
              "  <tbody>\n",
              "    <tr>\n",
              "      <th>0</th>\n",
              "      <td>7129300520</td>\n",
              "      <td>20141013T000000</td>\n",
              "      <td>221900.0</td>\n",
              "      <td>3</td>\n",
              "      <td>1.00</td>\n",
              "      <td>1180</td>\n",
              "      <td>5650</td>\n",
              "      <td>1.0</td>\n",
              "      <td>0</td>\n",
              "      <td>0</td>\n",
              "      <td>3</td>\n",
              "      <td>7</td>\n",
              "      <td>1180</td>\n",
              "      <td>0</td>\n",
              "      <td>1955</td>\n",
              "      <td>0</td>\n",
              "      <td>98178</td>\n",
              "      <td>47.5112</td>\n",
              "      <td>-122.257</td>\n",
              "      <td>1340</td>\n",
              "      <td>5650</td>\n",
              "    </tr>\n",
              "    <tr>\n",
              "      <th>1</th>\n",
              "      <td>6414100192</td>\n",
              "      <td>20141209T000000</td>\n",
              "      <td>538000.0</td>\n",
              "      <td>3</td>\n",
              "      <td>2.25</td>\n",
              "      <td>2570</td>\n",
              "      <td>7242</td>\n",
              "      <td>2.0</td>\n",
              "      <td>0</td>\n",
              "      <td>0</td>\n",
              "      <td>3</td>\n",
              "      <td>7</td>\n",
              "      <td>2170</td>\n",
              "      <td>400</td>\n",
              "      <td>1951</td>\n",
              "      <td>1991</td>\n",
              "      <td>98125</td>\n",
              "      <td>47.7210</td>\n",
              "      <td>-122.319</td>\n",
              "      <td>1690</td>\n",
              "      <td>7639</td>\n",
              "    </tr>\n",
              "    <tr>\n",
              "      <th>2</th>\n",
              "      <td>5631500400</td>\n",
              "      <td>20150225T000000</td>\n",
              "      <td>180000.0</td>\n",
              "      <td>2</td>\n",
              "      <td>1.00</td>\n",
              "      <td>770</td>\n",
              "      <td>10000</td>\n",
              "      <td>1.0</td>\n",
              "      <td>0</td>\n",
              "      <td>0</td>\n",
              "      <td>3</td>\n",
              "      <td>6</td>\n",
              "      <td>770</td>\n",
              "      <td>0</td>\n",
              "      <td>1933</td>\n",
              "      <td>0</td>\n",
              "      <td>98028</td>\n",
              "      <td>47.7379</td>\n",
              "      <td>-122.233</td>\n",
              "      <td>2720</td>\n",
              "      <td>8062</td>\n",
              "    </tr>\n",
              "    <tr>\n",
              "      <th>3</th>\n",
              "      <td>2487200875</td>\n",
              "      <td>20141209T000000</td>\n",
              "      <td>604000.0</td>\n",
              "      <td>4</td>\n",
              "      <td>3.00</td>\n",
              "      <td>1960</td>\n",
              "      <td>5000</td>\n",
              "      <td>1.0</td>\n",
              "      <td>0</td>\n",
              "      <td>0</td>\n",
              "      <td>5</td>\n",
              "      <td>7</td>\n",
              "      <td>1050</td>\n",
              "      <td>910</td>\n",
              "      <td>1965</td>\n",
              "      <td>0</td>\n",
              "      <td>98136</td>\n",
              "      <td>47.5208</td>\n",
              "      <td>-122.393</td>\n",
              "      <td>1360</td>\n",
              "      <td>5000</td>\n",
              "    </tr>\n",
              "    <tr>\n",
              "      <th>4</th>\n",
              "      <td>1954400510</td>\n",
              "      <td>20150218T000000</td>\n",
              "      <td>510000.0</td>\n",
              "      <td>3</td>\n",
              "      <td>2.00</td>\n",
              "      <td>1680</td>\n",
              "      <td>8080</td>\n",
              "      <td>1.0</td>\n",
              "      <td>0</td>\n",
              "      <td>0</td>\n",
              "      <td>3</td>\n",
              "      <td>8</td>\n",
              "      <td>1680</td>\n",
              "      <td>0</td>\n",
              "      <td>1987</td>\n",
              "      <td>0</td>\n",
              "      <td>98074</td>\n",
              "      <td>47.6168</td>\n",
              "      <td>-122.045</td>\n",
              "      <td>1800</td>\n",
              "      <td>7503</td>\n",
              "    </tr>\n",
              "  </tbody>\n",
              "</table>\n",
              "</div>"
            ],
            "text/plain": [
              "           id             date     price  ...     long  sqft_living15  sqft_lot15\n",
              "0  7129300520  20141013T000000  221900.0  ... -122.257           1340        5650\n",
              "1  6414100192  20141209T000000  538000.0  ... -122.319           1690        7639\n",
              "2  5631500400  20150225T000000  180000.0  ... -122.233           2720        8062\n",
              "3  2487200875  20141209T000000  604000.0  ... -122.393           1360        5000\n",
              "4  1954400510  20150218T000000  510000.0  ... -122.045           1800        7503\n",
              "\n",
              "[5 rows x 21 columns]"
            ]
          },
          "metadata": {
            "tags": []
          },
          "execution_count": 188
        }
      ]
    },
    {
      "cell_type": "markdown",
      "metadata": {
        "id": "-ieQwXEpKErG",
        "colab_type": "text"
      },
      "source": [
        "# Preprocess Data"
      ]
    },
    {
      "cell_type": "markdown",
      "metadata": {
        "id": "exE0Do0mqJQK",
        "colab_type": "text"
      },
      "source": [
        "## Cleanup columns"
      ]
    },
    {
      "cell_type": "code",
      "metadata": {
        "id": "xTWNIacXqMYn",
        "colab_type": "code",
        "colab": {}
      },
      "source": [
        "del dataset['id']\n",
        "del dataset['date']\n",
        "del dataset['zipcode']"
      ],
      "execution_count": 189,
      "outputs": []
    },
    {
      "cell_type": "markdown",
      "metadata": {
        "id": "Ihs-8pz9Kr3-",
        "colab_type": "text"
      },
      "source": [
        "## Check for unknown values"
      ]
    },
    {
      "cell_type": "code",
      "metadata": {
        "id": "31fMfL2wKGgg",
        "colab_type": "code",
        "colab": {
          "base_uri": "https://localhost:8080/",
          "height": 345
        },
        "outputId": "4d6ba832-fcd7-4c6c-c997-4eb3a75b2c1e"
      },
      "source": [
        "dataset.isna().sum()"
      ],
      "execution_count": 190,
      "outputs": [
        {
          "output_type": "execute_result",
          "data": {
            "text/plain": [
              "price            0\n",
              "bedrooms         0\n",
              "bathrooms        0\n",
              "sqft_living      0\n",
              "sqft_lot         0\n",
              "floors           0\n",
              "waterfront       0\n",
              "view             0\n",
              "condition        0\n",
              "grade            0\n",
              "sqft_above       0\n",
              "sqft_basement    0\n",
              "yr_built         0\n",
              "yr_renovated     0\n",
              "lat              0\n",
              "long             0\n",
              "sqft_living15    0\n",
              "sqft_lot15       0\n",
              "dtype: int64"
            ]
          },
          "metadata": {
            "tags": []
          },
          "execution_count": 190
        }
      ]
    },
    {
      "cell_type": "markdown",
      "metadata": {
        "id": "-GsHDAI8hNDz",
        "colab_type": "text"
      },
      "source": [
        "## Split features from labels"
      ]
    },
    {
      "cell_type": "code",
      "metadata": {
        "id": "TAfvDfLU2XvJ",
        "colab_type": "code",
        "colab": {
          "base_uri": "https://localhost:8080/",
          "height": 138
        },
        "outputId": "92a717ce-3b21-4fdf-b5fc-987d9e28860d"
      },
      "source": [
        "# Convert to categorical data, i.e [[1., 0.], [0., 1.]..]\n",
        "y = dataset['view'].values\n",
        "y = to_categorical(y)\n",
        "y"
      ],
      "execution_count": 191,
      "outputs": [
        {
          "output_type": "execute_result",
          "data": {
            "text/plain": [
              "array([[1., 0., 0., 0., 0.],\n",
              "       [1., 0., 0., 0., 0.],\n",
              "       [1., 0., 0., 0., 0.],\n",
              "       ...,\n",
              "       [1., 0., 0., 0., 0.],\n",
              "       [1., 0., 0., 0., 0.],\n",
              "       [1., 0., 0., 0., 0.]], dtype=float32)"
            ]
          },
          "metadata": {
            "tags": []
          },
          "execution_count": 191
        }
      ]
    },
    {
      "cell_type": "code",
      "metadata": {
        "id": "g2KaQlo1MimV",
        "colab_type": "code",
        "colab": {}
      },
      "source": [
        "X = dataset.drop('view',axis=1)"
      ],
      "execution_count": 192,
      "outputs": []
    },
    {
      "cell_type": "markdown",
      "metadata": {
        "id": "irALBWRWqUDP",
        "colab_type": "text"
      },
      "source": [
        "## Normalize the data"
      ]
    },
    {
      "cell_type": "code",
      "metadata": {
        "id": "H1KxepcyTsnH",
        "colab_type": "code",
        "colab": {}
      },
      "source": [
        "scaler = StandardScaler()\n",
        "scaled_x = scaler.fit_transform(X)"
      ],
      "execution_count": 193,
      "outputs": []
    },
    {
      "cell_type": "markdown",
      "metadata": {
        "id": "GNkAtcNErPOa",
        "colab_type": "text"
      },
      "source": [
        "## Split data into train and test"
      ]
    },
    {
      "cell_type": "code",
      "metadata": {
        "id": "sdU_GMAwT-2I",
        "colab_type": "code",
        "colab": {}
      },
      "source": [
        "X_train, X_test, y_train, y_test = train_test_split(X, y, test_size=0.2, random_state = 42)"
      ],
      "execution_count": 194,
      "outputs": []
    },
    {
      "cell_type": "code",
      "metadata": {
        "id": "8aGOTSFhUF97",
        "colab_type": "code",
        "tags": [],
        "colab": {
          "base_uri": "https://localhost:8080/",
          "height": 52
        },
        "outputId": "9812b6aa-687d-442a-8028-7de1b923b665"
      },
      "source": [
        "print(\"Train set size:\", X_train.shape[0])\n",
        "print(\"Test set size:\", X_test.shape[0])"
      ],
      "execution_count": 195,
      "outputs": [
        {
          "output_type": "stream",
          "text": [
            "Train set size: 17290\n",
            "Test set size: 4323\n"
          ],
          "name": "stdout"
        }
      ]
    },
    {
      "cell_type": "markdown",
      "metadata": {
        "id": "hoPCJUMtOfsB",
        "colab_type": "text"
      },
      "source": [
        "# Build model"
      ]
    },
    {
      "cell_type": "code",
      "metadata": {
        "id": "-0EjEzJTNQ5z",
        "colab_type": "code",
        "colab": {}
      },
      "source": [
        "from tensorflow.keras import regularizers\n",
        "def build_model():\n",
        "  model = keras.Sequential([\n",
        "    layers.Flatten(input_shape=[len(X_train.keys())]),\n",
        "    layers.Dense(64, activation='relu', kernel_initializer= tf.keras.initializers.RandomNormal(mean=0., stddev=1.)),\n",
        "    layers.BatchNormalization(),\n",
        "    #layers.Dense(64, activation='relu', kernel_initializer= tf.keras.initializers.RandomNormal(mean=0., stddev=1.)),\n",
        "    layers.Dense(5, activation='softmax')\n",
        "  ])\n",
        "\n",
        "  optimizer = tf.keras.optimizers.SGD()\n",
        "\n",
        "  model.compile(loss='categorical_crossentropy', optimizer='sgd', metrics=['accuracy'])\n",
        "  return model\n",
        "\n",
        "model = build_model()"
      ],
      "execution_count": 196,
      "outputs": []
    },
    {
      "cell_type": "markdown",
      "metadata": {
        "id": "Nqm9vqxJu8DR",
        "colab_type": "text"
      },
      "source": [
        "# Train model"
      ]
    },
    {
      "cell_type": "code",
      "metadata": {
        "id": "EXdKpoePO3j3",
        "colab_type": "code",
        "tags": [],
        "colab": {
          "base_uri": "https://localhost:8080/",
          "height": 1000
        },
        "outputId": "8dd4928c-b1ea-4a0e-b35c-1b2eb7621668"
      },
      "source": [
        "es = keras.callbacks.EarlyStopping(monitor='val_loss', mode='min', verbose=1, patience=10, restore_best_weights=True)\n",
        "reduce_lr = keras.callbacks.ReduceLROnPlateau(monitor='val_loss', factor=0.2,\n",
        "                  patience=5, min_lr=0.0001)\n",
        "history = model.fit(X_train,y_train,validation_data=(X_test,y_test), batch_size=64, epochs=50, shuffle=True, callbacks=[es])"
      ],
      "execution_count": 197,
      "outputs": [
        {
          "output_type": "stream",
          "text": [
            "Epoch 1/50\n",
            "271/271 [==============================] - 1s 5ms/step - loss: 0.7142 - accuracy: 0.8443 - val_loss: 0.4506 - val_accuracy: 0.9015\n",
            "Epoch 2/50\n",
            "271/271 [==============================] - 1s 4ms/step - loss: 0.4217 - accuracy: 0.8989 - val_loss: 0.4107 - val_accuracy: 0.9035\n",
            "Epoch 3/50\n",
            "271/271 [==============================] - 1s 5ms/step - loss: 0.4107 - accuracy: 0.9002 - val_loss: 0.4118 - val_accuracy: 0.9040\n",
            "Epoch 4/50\n",
            "271/271 [==============================] - 1s 5ms/step - loss: 0.4067 - accuracy: 0.9002 - val_loss: 0.4028 - val_accuracy: 0.9038\n",
            "Epoch 5/50\n",
            "271/271 [==============================] - 1s 5ms/step - loss: 0.4056 - accuracy: 0.8999 - val_loss: 0.4025 - val_accuracy: 0.9008\n",
            "Epoch 6/50\n",
            "271/271 [==============================] - 1s 5ms/step - loss: 0.4036 - accuracy: 0.8995 - val_loss: 0.4141 - val_accuracy: 0.9035\n",
            "Epoch 7/50\n",
            "271/271 [==============================] - 1s 5ms/step - loss: 0.4009 - accuracy: 0.9000 - val_loss: 0.4067 - val_accuracy: 0.9017\n",
            "Epoch 8/50\n",
            "271/271 [==============================] - 1s 5ms/step - loss: 0.4011 - accuracy: 0.8995 - val_loss: 0.4028 - val_accuracy: 0.9042\n",
            "Epoch 9/50\n",
            "271/271 [==============================] - 1s 5ms/step - loss: 0.3985 - accuracy: 0.9003 - val_loss: 0.3984 - val_accuracy: 0.9038\n",
            "Epoch 10/50\n",
            "271/271 [==============================] - 1s 5ms/step - loss: 0.4005 - accuracy: 0.9005 - val_loss: 0.4087 - val_accuracy: 0.8952\n",
            "Epoch 11/50\n",
            "271/271 [==============================] - 1s 4ms/step - loss: 0.4010 - accuracy: 0.8995 - val_loss: 0.3966 - val_accuracy: 0.9026\n",
            "Epoch 12/50\n",
            "271/271 [==============================] - 1s 4ms/step - loss: 0.3988 - accuracy: 0.9002 - val_loss: 0.4008 - val_accuracy: 0.9038\n",
            "Epoch 13/50\n",
            "271/271 [==============================] - 1s 4ms/step - loss: 0.3986 - accuracy: 0.9002 - val_loss: 0.3996 - val_accuracy: 0.9038\n",
            "Epoch 14/50\n",
            "271/271 [==============================] - 1s 5ms/step - loss: 0.3997 - accuracy: 0.9000 - val_loss: 0.3965 - val_accuracy: 0.9038\n",
            "Epoch 15/50\n",
            "271/271 [==============================] - 1s 5ms/step - loss: 0.3980 - accuracy: 0.9000 - val_loss: 0.4005 - val_accuracy: 0.9038\n",
            "Epoch 16/50\n",
            "271/271 [==============================] - 1s 5ms/step - loss: 0.3994 - accuracy: 0.9003 - val_loss: 0.3942 - val_accuracy: 0.9038\n",
            "Epoch 17/50\n",
            "271/271 [==============================] - 1s 4ms/step - loss: 0.3971 - accuracy: 0.9005 - val_loss: 0.4004 - val_accuracy: 0.9035\n",
            "Epoch 18/50\n",
            "271/271 [==============================] - 1s 5ms/step - loss: 0.3987 - accuracy: 0.9001 - val_loss: 0.3938 - val_accuracy: 0.9040\n",
            "Epoch 19/50\n",
            "271/271 [==============================] - 1s 5ms/step - loss: 0.3993 - accuracy: 0.9006 - val_loss: 0.4002 - val_accuracy: 0.9035\n",
            "Epoch 20/50\n",
            "271/271 [==============================] - 1s 5ms/step - loss: 0.3974 - accuracy: 0.9001 - val_loss: 0.3978 - val_accuracy: 0.9022\n",
            "Epoch 21/50\n",
            "271/271 [==============================] - 1s 4ms/step - loss: 0.3993 - accuracy: 0.8996 - val_loss: 0.3980 - val_accuracy: 0.9035\n",
            "Epoch 22/50\n",
            "271/271 [==============================] - 1s 5ms/step - loss: 0.3980 - accuracy: 0.9001 - val_loss: 0.4043 - val_accuracy: 0.9022\n",
            "Epoch 23/50\n",
            "271/271 [==============================] - 1s 4ms/step - loss: 0.3985 - accuracy: 0.8995 - val_loss: 0.3965 - val_accuracy: 0.9040\n",
            "Epoch 24/50\n",
            "271/271 [==============================] - 1s 5ms/step - loss: 0.3977 - accuracy: 0.8997 - val_loss: 0.3998 - val_accuracy: 0.9026\n",
            "Epoch 25/50\n",
            "271/271 [==============================] - 1s 5ms/step - loss: 0.3978 - accuracy: 0.9007 - val_loss: 0.4020 - val_accuracy: 0.9040\n",
            "Epoch 26/50\n",
            "271/271 [==============================] - 1s 5ms/step - loss: 0.3982 - accuracy: 0.9005 - val_loss: 0.3951 - val_accuracy: 0.9038\n",
            "Epoch 27/50\n",
            "271/271 [==============================] - 1s 5ms/step - loss: 0.3969 - accuracy: 0.9001 - val_loss: 0.4004 - val_accuracy: 0.9035\n",
            "Epoch 28/50\n",
            "267/271 [============================>.] - ETA: 0s - loss: 0.3984 - accuracy: 0.8999Restoring model weights from the end of the best epoch.\n",
            "271/271 [==============================] - 1s 5ms/step - loss: 0.3974 - accuracy: 0.9003 - val_loss: 0.3994 - val_accuracy: 0.9040\n",
            "Epoch 00028: early stopping\n"
          ],
          "name": "stdout"
        }
      ]
    },
    {
      "cell_type": "markdown",
      "metadata": {
        "id": "kUxhd7cpH-h6",
        "colab_type": "text"
      },
      "source": [
        "## Create a graph of accuracy and loss over time"
      ]
    },
    {
      "cell_type": "code",
      "metadata": {
        "id": "WHk-SQrTbpPS",
        "colab_type": "code",
        "colab": {
          "base_uri": "https://localhost:8080/",
          "height": 530
        },
        "outputId": "10df8371-1e14-47f0-e312-6d16232c8459"
      },
      "source": [
        "losses = pd.DataFrame(model.history.history)\n",
        "losses[['val_loss', 'loss']].plot()\n",
        "losses[['val_accuracy', 'accuracy']].plot()"
      ],
      "execution_count": 198,
      "outputs": [
        {
          "output_type": "execute_result",
          "data": {
            "text/plain": [
              "<matplotlib.axes._subplots.AxesSubplot at 0x7fe67dece5c0>"
            ]
          },
          "metadata": {
            "tags": []
          },
          "execution_count": 198
        },
        {
          "output_type": "display_data",
          "data": {
            "image/png": "[encoded data removed]",
            "text/plain": [
              "<Figure size 432x288 with 1 Axes>"
            ]
          },
          "metadata": {
            "tags": [],
            "needs_background": "light"
          }
        },
        {
          "output_type": "display_data",
          "data": {
            "image/png": "[encoded data removed]",
            "text/plain": [
              "<Figure size 432x288 with 1 Axes>"
            ]
          },
          "metadata": {
            "tags": [],
            "needs_background": "light"
          }
        }
      ]
    },
    {
      "cell_type": "markdown",
      "metadata": {
        "id": "UsaPVmvftL0r",
        "colab_type": "text"
      },
      "source": [
        "## Make predictions"
      ]
    },
    {
      "cell_type": "code",
      "metadata": {
        "id": "0LjnF88atPlM",
        "colab_type": "code",
        "tags": [],
        "colab": {
          "base_uri": "https://localhost:8080/",
          "height": 34
        },
        "outputId": "0e0d1f02-cb73-4728-8d93-1e493a6e1fab"
      },
      "source": [
        "loss, accuracy = model.evaluate(X_test, y_test, verbose=2)"
      ],
      "execution_count": 199,
      "outputs": [
        {
          "output_type": "stream",
          "text": [
            "136/136 - 0s - loss: 0.3938 - accuracy: 0.9040\n"
          ],
          "name": "stdout"
        }
      ]
    }
  ]
}