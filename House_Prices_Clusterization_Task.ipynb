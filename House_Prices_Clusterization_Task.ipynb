{
  "nbformat": 4,
  "nbformat_minor": 0,
  "metadata": {
    "colab": {
      "name": "Copy of HousePriceClusterization.ipynb",
      "provenance": [],
      "toc_visible": true,
      "authorship_tag": "ABX9TyNTN5VKzQbnNZIpcIwOK87s",
      "include_colab_link": true
    },
    "kernelspec": {
      "name": "python3",
      "display_name": "Python 3"
    }
  },
  "cells": [
    {
      "cell_type": "markdown",
      "metadata": {
        "id": "view-in-github",
        "colab_type": "text"
      },
      "source": [
        "<a href=\"https://colab.research.google.com/github/yordanovagabriela/neuralnetworks/blob/master/House_Prices_Clusterization_Task.ipynb\" target=\"_parent\"><img src=\"https://colab.research.google.com/assets/colab-badge.svg\" alt=\"Open In Colab\"/></a>"
      ]
    },
    {
      "cell_type": "markdown",
      "metadata": {
        "id": "xLRmWsPndO5I",
        "colab_type": "text"
      },
      "source": [
        "# Import Libraries"
      ]
    },
    {
      "cell_type": "code",
      "metadata": {
        "id": "O_KzJg7mMRjb",
        "colab_type": "code",
        "colab": {}
      },
      "source": [
        "import pandas as pd\n",
        "import numpy as np\n",
        "import matplotlib.pyplot as plt\n",
        "from keras.layers import Input, Dense, BatchNormalization\n",
        "from keras.models import Model\n",
        "from sklearn.cluster import KMeans\n",
        "from sklearn.metrics import normalized_mutual_info_score, adjusted_rand_score\n",
        "from sklearn.utils.linear_assignment_ import linear_assignment\n",
        "import sklearn.metrics\n",
        "import seaborn as sns\n",
        "from tensorflow import keras\n",
        "\n",
        "from sklearn.preprocessing import StandardScaler, MinMaxScaler\n",
        "from sklearn.model_selection import train_test_split"
      ],
      "execution_count": 136,
      "outputs": []
    },
    {
      "cell_type": "markdown",
      "metadata": {
        "id": "z48siNIVdXyP",
        "colab_type": "text"
      },
      "source": [
        "# Load Dataset"
      ]
    },
    {
      "cell_type": "code",
      "metadata": {
        "id": "ZEt-gQW-MTuV",
        "colab_type": "code",
        "colab": {
          "base_uri": "https://localhost:8080/",
          "height": 218
        },
        "outputId": "279cd087-38fc-40c9-a253-6a6861963f14"
      },
      "source": [
        "dataset = pd.read_csv('./kc_house_data.csv')\n",
        "dataset.head(5)"
      ],
      "execution_count": 137,
      "outputs": [
        {
          "output_type": "execute_result",
          "data": {
            "text/html": [
              "<div>\n",
              "<style scoped>\n",
              "    .dataframe tbody tr th:only-of-type {\n",
              "        vertical-align: middle;\n",
              "    }\n",
              "\n",
              "    .dataframe tbody tr th {\n",
              "        vertical-align: top;\n",
              "    }\n",
              "\n",
              "    .dataframe thead th {\n",
              "        text-align: right;\n",
              "    }\n",
              "</style>\n",
              "<table border=\"1\" class=\"dataframe\">\n",
              "  <thead>\n",
              "    <tr style=\"text-align: right;\">\n",
              "      <th></th>\n",
              "      <th>id</th>\n",
              "      <th>date</th>\n",
              "      <th>price</th>\n",
              "      <th>bedrooms</th>\n",
              "      <th>bathrooms</th>\n",
              "      <th>sqft_living</th>\n",
              "      <th>sqft_lot</th>\n",
              "      <th>floors</th>\n",
              "      <th>waterfront</th>\n",
              "      <th>view</th>\n",
              "      <th>condition</th>\n",
              "      <th>grade</th>\n",
              "      <th>sqft_above</th>\n",
              "      <th>sqft_basement</th>\n",
              "      <th>yr_built</th>\n",
              "      <th>yr_renovated</th>\n",
              "      <th>zipcode</th>\n",
              "      <th>lat</th>\n",
              "      <th>long</th>\n",
              "      <th>sqft_living15</th>\n",
              "      <th>sqft_lot15</th>\n",
              "    </tr>\n",
              "  </thead>\n",
              "  <tbody>\n",
              "    <tr>\n",
              "      <th>0</th>\n",
              "      <td>7129300520</td>\n",
              "      <td>20141013T000000</td>\n",
              "      <td>221900.0</td>\n",
              "      <td>3</td>\n",
              "      <td>1.00</td>\n",
              "      <td>1180</td>\n",
              "      <td>5650</td>\n",
              "      <td>1.0</td>\n",
              "      <td>0</td>\n",
              "      <td>0</td>\n",
              "      <td>3</td>\n",
              "      <td>7</td>\n",
              "      <td>1180</td>\n",
              "      <td>0</td>\n",
              "      <td>1955</td>\n",
              "      <td>0</td>\n",
              "      <td>98178</td>\n",
              "      <td>47.5112</td>\n",
              "      <td>-122.257</td>\n",
              "      <td>1340</td>\n",
              "      <td>5650</td>\n",
              "    </tr>\n",
              "    <tr>\n",
              "      <th>1</th>\n",
              "      <td>6414100192</td>\n",
              "      <td>20141209T000000</td>\n",
              "      <td>538000.0</td>\n",
              "      <td>3</td>\n",
              "      <td>2.25</td>\n",
              "      <td>2570</td>\n",
              "      <td>7242</td>\n",
              "      <td>2.0</td>\n",
              "      <td>0</td>\n",
              "      <td>0</td>\n",
              "      <td>3</td>\n",
              "      <td>7</td>\n",
              "      <td>2170</td>\n",
              "      <td>400</td>\n",
              "      <td>1951</td>\n",
              "      <td>1991</td>\n",
              "      <td>98125</td>\n",
              "      <td>47.7210</td>\n",
              "      <td>-122.319</td>\n",
              "      <td>1690</td>\n",
              "      <td>7639</td>\n",
              "    </tr>\n",
              "    <tr>\n",
              "      <th>2</th>\n",
              "      <td>5631500400</td>\n",
              "      <td>20150225T000000</td>\n",
              "      <td>180000.0</td>\n",
              "      <td>2</td>\n",
              "      <td>1.00</td>\n",
              "      <td>770</td>\n",
              "      <td>10000</td>\n",
              "      <td>1.0</td>\n",
              "      <td>0</td>\n",
              "      <td>0</td>\n",
              "      <td>3</td>\n",
              "      <td>6</td>\n",
              "      <td>770</td>\n",
              "      <td>0</td>\n",
              "      <td>1933</td>\n",
              "      <td>0</td>\n",
              "      <td>98028</td>\n",
              "      <td>47.7379</td>\n",
              "      <td>-122.233</td>\n",
              "      <td>2720</td>\n",
              "      <td>8062</td>\n",
              "    </tr>\n",
              "    <tr>\n",
              "      <th>3</th>\n",
              "      <td>2487200875</td>\n",
              "      <td>20141209T000000</td>\n",
              "      <td>604000.0</td>\n",
              "      <td>4</td>\n",
              "      <td>3.00</td>\n",
              "      <td>1960</td>\n",
              "      <td>5000</td>\n",
              "      <td>1.0</td>\n",
              "      <td>0</td>\n",
              "      <td>0</td>\n",
              "      <td>5</td>\n",
              "      <td>7</td>\n",
              "      <td>1050</td>\n",
              "      <td>910</td>\n",
              "      <td>1965</td>\n",
              "      <td>0</td>\n",
              "      <td>98136</td>\n",
              "      <td>47.5208</td>\n",
              "      <td>-122.393</td>\n",
              "      <td>1360</td>\n",
              "      <td>5000</td>\n",
              "    </tr>\n",
              "    <tr>\n",
              "      <th>4</th>\n",
              "      <td>1954400510</td>\n",
              "      <td>20150218T000000</td>\n",
              "      <td>510000.0</td>\n",
              "      <td>3</td>\n",
              "      <td>2.00</td>\n",
              "      <td>1680</td>\n",
              "      <td>8080</td>\n",
              "      <td>1.0</td>\n",
              "      <td>0</td>\n",
              "      <td>0</td>\n",
              "      <td>3</td>\n",
              "      <td>8</td>\n",
              "      <td>1680</td>\n",
              "      <td>0</td>\n",
              "      <td>1987</td>\n",
              "      <td>0</td>\n",
              "      <td>98074</td>\n",
              "      <td>47.6168</td>\n",
              "      <td>-122.045</td>\n",
              "      <td>1800</td>\n",
              "      <td>7503</td>\n",
              "    </tr>\n",
              "  </tbody>\n",
              "</table>\n",
              "</div>"
            ],
            "text/plain": [
              "           id             date     price  ...     long  sqft_living15  sqft_lot15\n",
              "0  7129300520  20141013T000000  221900.0  ... -122.257           1340        5650\n",
              "1  6414100192  20141209T000000  538000.0  ... -122.319           1690        7639\n",
              "2  5631500400  20150225T000000  180000.0  ... -122.233           2720        8062\n",
              "3  2487200875  20141209T000000  604000.0  ... -122.393           1360        5000\n",
              "4  1954400510  20150218T000000  510000.0  ... -122.045           1800        7503\n",
              "\n",
              "[5 rows x 21 columns]"
            ]
          },
          "metadata": {
            "tags": []
          },
          "execution_count": 137
        }
      ]
    },
    {
      "cell_type": "markdown",
      "metadata": {
        "id": "Ct6AJl7Sda5u",
        "colab_type": "text"
      },
      "source": [
        "# Preprocess Data"
      ]
    },
    {
      "cell_type": "markdown",
      "metadata": {
        "id": "th4xHPimdeG2",
        "colab_type": "text"
      },
      "source": [
        "## Cleanup Columns"
      ]
    },
    {
      "cell_type": "code",
      "metadata": {
        "id": "pPFynRI5MeQV",
        "colab_type": "code",
        "colab": {}
      },
      "source": [
        "del dataset['id']\n",
        "del dataset['date']\n",
        "del dataset['zipcode']"
      ],
      "execution_count": 138,
      "outputs": []
    },
    {
      "cell_type": "markdown",
      "metadata": {
        "id": "fBWpgnr3dglU",
        "colab_type": "text"
      },
      "source": [
        "## Check for Unknown Values"
      ]
    },
    {
      "cell_type": "code",
      "metadata": {
        "id": "MDHzm04jdnjP",
        "colab_type": "code",
        "colab": {
          "base_uri": "https://localhost:8080/",
          "height": 345
        },
        "outputId": "9e64a927-65a3-4574-cf7e-5b18279355fa"
      },
      "source": [
        "dataset.isna().sum()"
      ],
      "execution_count": 139,
      "outputs": [
        {
          "output_type": "execute_result",
          "data": {
            "text/plain": [
              "price            0\n",
              "bedrooms         0\n",
              "bathrooms        0\n",
              "sqft_living      0\n",
              "sqft_lot         0\n",
              "floors           0\n",
              "waterfront       0\n",
              "view             0\n",
              "condition        0\n",
              "grade            0\n",
              "sqft_above       0\n",
              "sqft_basement    0\n",
              "yr_built         0\n",
              "yr_renovated     0\n",
              "lat              0\n",
              "long             0\n",
              "sqft_living15    0\n",
              "sqft_lot15       0\n",
              "dtype: int64"
            ]
          },
          "metadata": {
            "tags": []
          },
          "execution_count": 139
        }
      ]
    },
    {
      "cell_type": "markdown",
      "metadata": {
        "id": "PwdLBBIudra3",
        "colab_type": "text"
      },
      "source": [
        "## Split Features from Labels"
      ]
    },
    {
      "cell_type": "code",
      "metadata": {
        "id": "RwkSXncAdw7j",
        "colab_type": "code",
        "colab": {
          "base_uri": "https://localhost:8080/",
          "height": 34
        },
        "outputId": "9d6706b8-35b1-49f4-bab7-c30674528afb"
      },
      "source": [
        "X = dataset.drop('view',axis=1)\n",
        "y = dataset['view']\n",
        "y.unique()"
      ],
      "execution_count": 140,
      "outputs": [
        {
          "output_type": "execute_result",
          "data": {
            "text/plain": [
              "array([0, 3, 4, 2, 1])"
            ]
          },
          "metadata": {
            "tags": []
          },
          "execution_count": 140
        }
      ]
    },
    {
      "cell_type": "markdown",
      "metadata": {
        "id": "NevOkzEad4ht",
        "colab_type": "text"
      },
      "source": [
        "## Normalize Data"
      ]
    },
    {
      "cell_type": "code",
      "metadata": {
        "id": "sfiXVVaMd9NW",
        "colab_type": "code",
        "colab": {}
      },
      "source": [
        "scaler = StandardScaler()\n",
        "scaled_x = scaler.fit_transform(X)"
      ],
      "execution_count": 141,
      "outputs": []
    },
    {
      "cell_type": "markdown",
      "metadata": {
        "id": "84Dzeg_-d_VL",
        "colab_type": "text"
      },
      "source": [
        "## Split Data into Train, Validation and Test Set"
      ]
    },
    {
      "cell_type": "code",
      "metadata": {
        "id": "I1ZDYC-1d96w",
        "colab_type": "code",
        "colab": {}
      },
      "source": [
        "X_train, X_test, y_train, y_test = train_test_split(X, y, test_size=0.2)\n",
        "X_train, X_val, y_train, y_val = train_test_split(X_train, y_train, test_size=0.25)"
      ],
      "execution_count": 142,
      "outputs": []
    },
    {
      "cell_type": "code",
      "metadata": {
        "id": "6mIYGxujeIq0",
        "colab_type": "code",
        "colab": {
          "base_uri": "https://localhost:8080/",
          "height": 69
        },
        "outputId": "8054af25-249c-4a66-b86f-f1a740d230fe"
      },
      "source": [
        "print(\"Train set size:\", X_train.shape[0])\n",
        "print(\"Validation set size:\", X_val.shape[0])\n",
        "print(\"Test set size:\", X_test.shape[0])"
      ],
      "execution_count": 143,
      "outputs": [
        {
          "output_type": "stream",
          "text": [
            "Train set size: 12967\n",
            "Validation set size: 4323\n",
            "Test set size: 4323\n"
          ],
          "name": "stdout"
        }
      ]
    },
    {
      "cell_type": "markdown",
      "metadata": {
        "id": "9_UwvY4xeMR3",
        "colab_type": "text"
      },
      "source": [
        "# Build Model"
      ]
    },
    {
      "cell_type": "markdown",
      "metadata": {
        "id": "XnPsgROjNDpm",
        "colab_type": "text"
      },
      "source": [
        "## KMeans"
      ]
    },
    {
      "cell_type": "code",
      "metadata": {
        "id": "JkWv1-EYMfAx",
        "colab_type": "code",
        "colab": {
          "base_uri": "https://localhost:8080/",
          "height": 190
        },
        "outputId": "b462cabc-b6f9-481e-a25f-2c9c6a0e6a7d"
      },
      "source": [
        "total_accuracy = 0\n",
        "for i in range(10):\n",
        "  kmeans = KMeans(n_clusters=5, n_init=20, n_jobs=1)\n",
        "  y_pred_kmeans = kmeans.fit_predict(X)\n",
        "  total_accuracy += sklearn.metrics.accuracy_score(y.values, y_pred_kmeans)\n",
        "  print(\"Accuracy with kMeans:\", sklearn.metrics.accuracy_score(y.values, y_pred_kmeans))"
      ],
      "execution_count": 144,
      "outputs": [
        {
          "output_type": "stream",
          "text": [
            "Accuracy with kMeans: 0.1518993198537917\n",
            "Accuracy with kMeans: 0.3398880303521029\n",
            "Accuracy with kMeans: 0.14537546846805163\n",
            "Accuracy with kMeans: 0.3390551982603063\n",
            "Accuracy with kMeans: 0.43284134548651276\n",
            "Accuracy with kMeans: 0.4448711423680192\n",
            "Accuracy with kMeans: 0.3381298292694212\n",
            "Accuracy with kMeans: 0.43797714338592514\n",
            "Accuracy with kMeans: 0.43779206958774813\n",
            "Accuracy with kMeans: 0.14560681071577292\n"
          ],
          "name": "stdout"
        }
      ]
    },
    {
      "cell_type": "code",
      "metadata": {
        "id": "XA6gSia8MioZ",
        "colab_type": "code",
        "colab": {
          "base_uri": "https://localhost:8080/",
          "height": 34
        },
        "outputId": "0d40cab6-bac5-4fbf-c5bf-613be3cc5170"
      },
      "source": [
        "print(\"Average accuracy from 10 runs: {}\".format(total_accuracy / 10))"
      ],
      "execution_count": 145,
      "outputs": [
        {
          "output_type": "stream",
          "text": [
            "Average accuracy from 10 runs: 0.32134363577476516\n"
          ],
          "name": "stdout"
        }
      ]
    },
    {
      "cell_type": "code",
      "metadata": {
        "id": "oF8RHeeCM8mL",
        "colab_type": "code",
        "colab": {
          "base_uri": "https://localhost:8080/",
          "height": 322
        },
        "outputId": "1ad45867-5f4a-436b-ab21-aad797d3f129"
      },
      "source": [
        "confusion_matrix = sklearn.metrics.confusion_matrix(y, y_pred_kmeans)\n",
        "sns.heatmap(confusion_matrix, annot=True, fmt=\"d\", annot_kws={\"size\": 20})\n",
        "plt.title(\"Confusion matrix\", fontsize=30)\n",
        "plt.ylabel('True label', fontsize=25)\n",
        "plt.xlabel('Clustering label', fontsize=25)\n",
        "plt.show()"
      ],
      "execution_count": 146,
      "outputs": [
        {
          "output_type": "display_data",
          "data": {
            "image/png": "[encoded data removed]",
            "text/plain": [
              "<Figure size 432x288 with 2 Axes>"
            ]
          },
          "metadata": {
            "tags": [],
            "needs_background": "light"
          }
        }
      ]
    },
    {
      "cell_type": "markdown",
      "metadata": {
        "id": "OvgG-nSoNFpz",
        "colab_type": "text"
      },
      "source": [
        "## Deep Autoencoder"
      ]
    },
    {
      "cell_type": "code",
      "metadata": {
        "id": "xhQ4kjvWNA5D",
        "colab_type": "code",
        "colab": {}
      },
      "source": [
        "def autoencoder(dims, act='relu', init='glorot_uniform'):\n",
        "    n_stacks = len(dims) - 1\n",
        "    \n",
        "    # input\n",
        "    input_img = Input(shape=(dims[0],), name='input')\n",
        "    x = input_img\n",
        "\n",
        "    # internal layers in encoder\n",
        "    for i in range(n_stacks-1):\n",
        "        x = Dense(dims[i + 1], activation=act, kernel_initializer=init, name='encoder_%d' % i)(x)\n",
        "\n",
        "    # hidden layer\n",
        "    encoded = Dense(dims[-1], kernel_initializer=init, name='encoder_%d' % (n_stacks - 1))(x)\n",
        "\n",
        "    x = encoded\n",
        "    # internal layers in decoder\n",
        "    for i in range(n_stacks-1, 0, -1):\n",
        "        x = Dense(dims[i], activation=act, kernel_initializer=init, name='decoder_%d' % i)(x)\n",
        "\n",
        "    x = BatchNormalization()(x)\n",
        "    # output\n",
        "    x = Dense(dims[0], kernel_initializer=init, name='decoder_0')(x)\n",
        "    decoded = x\n",
        "    return Model(inputs=input_img, outputs=decoded, name='AE'), Model(inputs=input_img, outputs=encoded, name='encoder')"
      ],
      "execution_count": 147,
      "outputs": []
    },
    {
      "cell_type": "code",
      "metadata": {
        "id": "JnHZ0QmnNPir",
        "colab_type": "code",
        "colab": {}
      },
      "source": [
        "dims = [X.shape[-1], 64, 64, 5]\n",
        "pretrain_optimizer = keras.optimizers.SGD(lr=0.1, momentum=0.9)\n",
        "pretrain_epochs = 300\n",
        "batch_size = 256"
      ],
      "execution_count": 148,
      "outputs": []
    },
    {
      "cell_type": "code",
      "metadata": {
        "id": "S3Ev4q10NtFi",
        "colab_type": "code",
        "colab": {}
      },
      "source": [
        "autoencoder, encoder = autoencoder(dims)"
      ],
      "execution_count": 149,
      "outputs": []
    },
    {
      "cell_type": "code",
      "metadata": {
        "id": "_O6fLGB5NwnJ",
        "colab_type": "code",
        "colab": {
          "base_uri": "https://localhost:8080/",
          "height": 432
        },
        "outputId": "5138653e-4355-4573-a62c-7045c167b287"
      },
      "source": [
        "autoencoder.summary()"
      ],
      "execution_count": 150,
      "outputs": [
        {
          "output_type": "stream",
          "text": [
            "Model: \"AE\"\n",
            "_________________________________________________________________\n",
            "Layer (type)                 Output Shape              Param #   \n",
            "=================================================================\n",
            "input (InputLayer)           (None, 17)                0         \n",
            "_________________________________________________________________\n",
            "encoder_0 (Dense)            (None, 64)                1152      \n",
            "_________________________________________________________________\n",
            "encoder_1 (Dense)            (None, 64)                4160      \n",
            "_________________________________________________________________\n",
            "encoder_2 (Dense)            (None, 5)                 325       \n",
            "_________________________________________________________________\n",
            "decoder_2 (Dense)            (None, 64)                384       \n",
            "_________________________________________________________________\n",
            "decoder_1 (Dense)            (None, 64)                4160      \n",
            "_________________________________________________________________\n",
            "batch_normalization_7 (Batch (None, 64)                256       \n",
            "_________________________________________________________________\n",
            "decoder_0 (Dense)            (None, 17)                1105      \n",
            "=================================================================\n",
            "Total params: 11,542\n",
            "Trainable params: 11,414\n",
            "Non-trainable params: 128\n",
            "_________________________________________________________________\n"
          ],
          "name": "stdout"
        }
      ]
    },
    {
      "cell_type": "code",
      "metadata": {
        "id": "FaiM_19aNyHJ",
        "colab_type": "code",
        "colab": {
          "base_uri": "https://localhost:8080/",
          "height": 1000
        },
        "outputId": "220d3bc7-f8db-4047-f153-300b2659cf47"
      },
      "source": [
        "autoencoder.compile(optimizer='rmsprop', loss='mean_squared_logarithmic_error')\n",
        "autoencoder.fit(X_train, X_train, validation_data=(X_val, X_val), batch_size=64, epochs=100)"
      ],
      "execution_count": 151,
      "outputs": [
        {
          "output_type": "stream",
          "text": [
            "Train on 12967 samples, validate on 4323 samples\n",
            "Epoch 1/100\n",
            "12967/12967 [==============================] - 1s 49us/step - loss: 29.6964 - val_loss: 28.1939\n",
            "Epoch 2/100\n",
            "12967/12967 [==============================] - 0s 33us/step - loss: 21.9722 - val_loss: 19.6675\n",
            "Epoch 3/100\n",
            "12967/12967 [==============================] - 0s 32us/step - loss: 16.9283 - val_loss: 15.0279\n",
            "Epoch 4/100\n",
            "12967/12967 [==============================] - 0s 34us/step - loss: 13.8211 - val_loss: 12.5323\n",
            "Epoch 5/100\n",
            "12967/12967 [==============================] - 0s 33us/step - loss: 11.7157 - val_loss: 10.7270\n",
            "Epoch 6/100\n",
            "12967/12967 [==============================] - 0s 33us/step - loss: 10.1969 - val_loss: 9.4539\n",
            "Epoch 7/100\n",
            "12967/12967 [==============================] - 0s 34us/step - loss: 9.0289 - val_loss: 7.2986\n",
            "Epoch 8/100\n",
            "12967/12967 [==============================] - 0s 32us/step - loss: 8.0798 - val_loss: 7.7520\n",
            "Epoch 9/100\n",
            "12967/12967 [==============================] - 0s 33us/step - loss: 7.2012 - val_loss: 6.9902\n",
            "Epoch 10/100\n",
            "12967/12967 [==============================] - 0s 33us/step - loss: 6.4818 - val_loss: 10.5029\n",
            "Epoch 11/100\n",
            "12967/12967 [==============================] - 0s 33us/step - loss: 5.8907 - val_loss: 5.7137\n",
            "Epoch 12/100\n",
            "12967/12967 [==============================] - 0s 33us/step - loss: 5.3836 - val_loss: 5.2480\n",
            "Epoch 13/100\n",
            "12967/12967 [==============================] - 0s 35us/step - loss: 4.9626 - val_loss: 4.9840\n",
            "Epoch 14/100\n",
            "12967/12967 [==============================] - 0s 32us/step - loss: 4.5919 - val_loss: 4.6365\n",
            "Epoch 15/100\n",
            "12967/12967 [==============================] - 0s 33us/step - loss: 4.2724 - val_loss: 4.8727\n",
            "Epoch 16/100\n",
            "12967/12967 [==============================] - 0s 32us/step - loss: 3.9870 - val_loss: 3.7754\n",
            "Epoch 17/100\n",
            "12967/12967 [==============================] - 0s 32us/step - loss: 3.7402 - val_loss: 3.6947\n",
            "Epoch 18/100\n",
            "12967/12967 [==============================] - 0s 35us/step - loss: 3.5201 - val_loss: 4.3954\n",
            "Epoch 19/100\n",
            "12967/12967 [==============================] - 0s 32us/step - loss: 3.3289 - val_loss: 3.2546\n",
            "Epoch 20/100\n",
            "12967/12967 [==============================] - 0s 31us/step - loss: 3.1536 - val_loss: 3.2935\n",
            "Epoch 21/100\n",
            "12967/12967 [==============================] - 0s 34us/step - loss: 2.9960 - val_loss: 3.8859\n",
            "Epoch 22/100\n",
            "12967/12967 [==============================] - 0s 32us/step - loss: 2.8566 - val_loss: 2.7662\n",
            "Epoch 23/100\n",
            "12967/12967 [==============================] - 0s 33us/step - loss: 2.7306 - val_loss: 3.0322\n",
            "Epoch 24/100\n",
            "12967/12967 [==============================] - 0s 33us/step - loss: 2.6166 - val_loss: 2.5461\n",
            "Epoch 25/100\n",
            "12967/12967 [==============================] - 0s 33us/step - loss: 2.5113 - val_loss: 2.5091\n",
            "Epoch 26/100\n",
            "12967/12967 [==============================] - 0s 32us/step - loss: 2.4286 - val_loss: 2.3714\n",
            "Epoch 27/100\n",
            "12967/12967 [==============================] - 0s 32us/step - loss: 2.3385 - val_loss: 2.2631\n",
            "Epoch 28/100\n",
            "12967/12967 [==============================] - 0s 33us/step - loss: 2.2641 - val_loss: 2.5191\n",
            "Epoch 29/100\n",
            "12967/12967 [==============================] - 0s 32us/step - loss: 2.1913 - val_loss: 2.3289\n",
            "Epoch 30/100\n",
            "12967/12967 [==============================] - 0s 33us/step - loss: 2.1274 - val_loss: 2.1703\n",
            "Epoch 31/100\n",
            "12967/12967 [==============================] - 0s 32us/step - loss: 2.0607 - val_loss: 2.0727\n",
            "Epoch 32/100\n",
            "12967/12967 [==============================] - 0s 32us/step - loss: 2.0028 - val_loss: 1.9873\n",
            "Epoch 33/100\n",
            "12967/12967 [==============================] - 0s 34us/step - loss: 1.9497 - val_loss: 2.2490\n",
            "Epoch 34/100\n",
            "12967/12967 [==============================] - 0s 32us/step - loss: 1.8986 - val_loss: 3.0676\n",
            "Epoch 35/100\n",
            "12967/12967 [==============================] - 0s 33us/step - loss: 1.8395 - val_loss: 1.8212\n",
            "Epoch 36/100\n",
            "12967/12967 [==============================] - 0s 32us/step - loss: 1.7979 - val_loss: 1.8519\n",
            "Epoch 37/100\n",
            "12967/12967 [==============================] - 0s 33us/step - loss: 1.7522 - val_loss: 1.7681\n",
            "Epoch 38/100\n",
            "12967/12967 [==============================] - 0s 33us/step - loss: 1.7122 - val_loss: 1.6737\n",
            "Epoch 39/100\n",
            "12967/12967 [==============================] - 0s 31us/step - loss: 1.6703 - val_loss: 1.6434\n",
            "Epoch 40/100\n",
            "12967/12967 [==============================] - 0s 33us/step - loss: 1.6310 - val_loss: 1.7223\n",
            "Epoch 41/100\n",
            "12967/12967 [==============================] - 0s 37us/step - loss: 1.5984 - val_loss: 1.5559\n",
            "Epoch 42/100\n",
            "12967/12967 [==============================] - 0s 35us/step - loss: 1.5592 - val_loss: 1.5612\n",
            "Epoch 43/100\n",
            "12967/12967 [==============================] - 0s 33us/step - loss: 1.5255 - val_loss: 1.5988\n",
            "Epoch 44/100\n",
            "12967/12967 [==============================] - 0s 33us/step - loss: 1.5002 - val_loss: 1.4984\n",
            "Epoch 45/100\n",
            "12967/12967 [==============================] - 0s 36us/step - loss: 1.4736 - val_loss: 1.5980\n",
            "Epoch 46/100\n",
            "12967/12967 [==============================] - 0s 33us/step - loss: 1.4371 - val_loss: 1.4164\n",
            "Epoch 47/100\n",
            "12967/12967 [==============================] - 0s 35us/step - loss: 1.4039 - val_loss: 1.4762\n",
            "Epoch 48/100\n",
            "12967/12967 [==============================] - 0s 32us/step - loss: 1.3856 - val_loss: 1.3913\n",
            "Epoch 49/100\n",
            "12967/12967 [==============================] - 0s 34us/step - loss: 1.3573 - val_loss: 1.3235\n",
            "Epoch 50/100\n",
            "12967/12967 [==============================] - 0s 33us/step - loss: 1.3298 - val_loss: 1.7574\n",
            "Epoch 51/100\n",
            "12967/12967 [==============================] - 0s 34us/step - loss: 1.3125 - val_loss: 1.3629\n",
            "Epoch 52/100\n",
            "12967/12967 [==============================] - 0s 33us/step - loss: 1.2888 - val_loss: 1.2675\n",
            "Epoch 53/100\n",
            "12967/12967 [==============================] - 0s 33us/step - loss: 1.2628 - val_loss: 1.2995\n",
            "Epoch 54/100\n",
            "12967/12967 [==============================] - 0s 33us/step - loss: 1.2442 - val_loss: 1.3805\n",
            "Epoch 55/100\n",
            "12967/12967 [==============================] - 0s 32us/step - loss: 1.2263 - val_loss: 1.1957\n",
            "Epoch 56/100\n",
            "12967/12967 [==============================] - 0s 33us/step - loss: 1.2024 - val_loss: 1.1798\n",
            "Epoch 57/100\n",
            "12967/12967 [==============================] - 0s 33us/step - loss: 1.1865 - val_loss: 1.1821\n",
            "Epoch 58/100\n",
            "12967/12967 [==============================] - 0s 33us/step - loss: 1.1696 - val_loss: 1.1783\n",
            "Epoch 59/100\n",
            "12967/12967 [==============================] - 0s 36us/step - loss: 1.1563 - val_loss: 1.1327\n",
            "Epoch 60/100\n",
            "12967/12967 [==============================] - 0s 33us/step - loss: 1.1445 - val_loss: 1.1377\n",
            "Epoch 61/100\n",
            "12967/12967 [==============================] - 0s 34us/step - loss: 1.1258 - val_loss: 1.1353\n",
            "Epoch 62/100\n",
            "12967/12967 [==============================] - 0s 33us/step - loss: 1.1074 - val_loss: 1.6977\n",
            "Epoch 63/100\n",
            "12967/12967 [==============================] - 0s 34us/step - loss: 1.0971 - val_loss: 1.0870\n",
            "Epoch 64/100\n",
            "12967/12967 [==============================] - 0s 35us/step - loss: 1.0799 - val_loss: 1.0536\n",
            "Epoch 65/100\n",
            "12967/12967 [==============================] - 0s 35us/step - loss: 1.0702 - val_loss: 1.0488\n",
            "Epoch 66/100\n",
            "12967/12967 [==============================] - 0s 34us/step - loss: 1.0549 - val_loss: 1.0636\n",
            "Epoch 67/100\n",
            "12967/12967 [==============================] - 0s 34us/step - loss: 1.0428 - val_loss: 1.0182\n",
            "Epoch 68/100\n",
            "12967/12967 [==============================] - 0s 34us/step - loss: 1.0310 - val_loss: 1.0095\n",
            "Epoch 69/100\n",
            "12967/12967 [==============================] - 0s 35us/step - loss: 1.0172 - val_loss: 0.9930\n",
            "Epoch 70/100\n",
            "12967/12967 [==============================] - 0s 34us/step - loss: 1.0051 - val_loss: 1.5365\n",
            "Epoch 71/100\n",
            "12967/12967 [==============================] - 0s 34us/step - loss: 0.9946 - val_loss: 1.0186\n",
            "Epoch 72/100\n",
            "12967/12967 [==============================] - 0s 34us/step - loss: 0.9795 - val_loss: 1.1570\n",
            "Epoch 73/100\n",
            "12967/12967 [==============================] - 0s 33us/step - loss: 0.9693 - val_loss: 1.3883\n",
            "Epoch 74/100\n",
            "12967/12967 [==============================] - 0s 35us/step - loss: 0.9584 - val_loss: 0.9319\n",
            "Epoch 75/100\n",
            "12967/12967 [==============================] - 0s 33us/step - loss: 0.9466 - val_loss: 1.0818\n",
            "Epoch 76/100\n",
            "12967/12967 [==============================] - 0s 34us/step - loss: 0.9365 - val_loss: 1.1091\n",
            "Epoch 77/100\n",
            "12967/12967 [==============================] - 0s 34us/step - loss: 0.9235 - val_loss: 0.9834\n",
            "Epoch 78/100\n",
            "12967/12967 [==============================] - 0s 33us/step - loss: 0.9130 - val_loss: 0.9134\n",
            "Epoch 79/100\n",
            "12967/12967 [==============================] - 0s 34us/step - loss: 0.9029 - val_loss: 0.8921\n",
            "Epoch 80/100\n",
            "12967/12967 [==============================] - 0s 33us/step - loss: 0.8956 - val_loss: 0.8785\n",
            "Epoch 81/100\n",
            "12967/12967 [==============================] - 0s 36us/step - loss: 0.8877 - val_loss: 0.8992\n",
            "Epoch 82/100\n",
            "12967/12967 [==============================] - 0s 34us/step - loss: 0.8779 - val_loss: 1.0123\n",
            "Epoch 83/100\n",
            "12967/12967 [==============================] - 0s 34us/step - loss: 0.8658 - val_loss: 0.8584\n",
            "Epoch 84/100\n",
            "12967/12967 [==============================] - 0s 35us/step - loss: 0.8606 - val_loss: 0.8630\n",
            "Epoch 85/100\n",
            "12967/12967 [==============================] - 0s 34us/step - loss: 0.8486 - val_loss: 0.8838\n",
            "Epoch 86/100\n",
            "12967/12967 [==============================] - 0s 34us/step - loss: 0.8413 - val_loss: 0.8693\n",
            "Epoch 87/100\n",
            "12967/12967 [==============================] - 0s 33us/step - loss: 0.8320 - val_loss: 0.8281\n",
            "Epoch 88/100\n",
            "12967/12967 [==============================] - 0s 35us/step - loss: 0.8238 - val_loss: 0.8334\n",
            "Epoch 89/100\n",
            "12967/12967 [==============================] - 0s 32us/step - loss: 0.8145 - val_loss: 0.8025\n",
            "Epoch 90/100\n",
            "12967/12967 [==============================] - 0s 34us/step - loss: 0.8131 - val_loss: 0.8810\n",
            "Epoch 91/100\n",
            "12967/12967 [==============================] - 0s 35us/step - loss: 0.8007 - val_loss: 0.7835\n",
            "Epoch 92/100\n",
            "12967/12967 [==============================] - 0s 33us/step - loss: 0.7916 - val_loss: 0.8667\n",
            "Epoch 93/100\n",
            "12967/12967 [==============================] - 0s 32us/step - loss: 0.7869 - val_loss: 0.7858\n",
            "Epoch 94/100\n",
            "12967/12967 [==============================] - 0s 33us/step - loss: 0.7798 - val_loss: 0.7690\n",
            "Epoch 95/100\n",
            "12967/12967 [==============================] - 0s 33us/step - loss: 0.7727 - val_loss: 0.7939\n",
            "Epoch 96/100\n",
            "12967/12967 [==============================] - 0s 32us/step - loss: 0.7637 - val_loss: 0.7602\n",
            "Epoch 97/100\n",
            "12967/12967 [==============================] - 0s 32us/step - loss: 0.7587 - val_loss: 0.7549\n",
            "Epoch 98/100\n",
            "12967/12967 [==============================] - 0s 34us/step - loss: 0.7462 - val_loss: 0.7646\n",
            "Epoch 99/100\n",
            "12967/12967 [==============================] - 0s 32us/step - loss: 0.7455 - val_loss: 0.7467\n",
            "Epoch 100/100\n",
            "12967/12967 [==============================] - 0s 32us/step - loss: 0.7338 - val_loss: 0.7292\n"
          ],
          "name": "stdout"
        },
        {
          "output_type": "execute_result",
          "data": {
            "text/plain": [
              "<keras.callbacks.callbacks.History at 0x7f1c43b37128>"
            ]
          },
          "metadata": {
            "tags": []
          },
          "execution_count": 151
        }
      ]
    },
    {
      "cell_type": "code",
      "metadata": {
        "id": "odjjKG6Sci6Q",
        "colab_type": "code",
        "colab": {
          "base_uri": "https://localhost:8080/",
          "height": 282
        },
        "outputId": "658737fd-cebc-465e-d778-7356a63ac64c"
      },
      "source": [
        "losses = pd.DataFrame(autoencoder.history.history)\n",
        "losses[['val_loss', 'loss']].plot()"
      ],
      "execution_count": 152,
      "outputs": [
        {
          "output_type": "execute_result",
          "data": {
            "text/plain": [
              "<matplotlib.axes._subplots.AxesSubplot at 0x7f1c434e0b38>"
            ]
          },
          "metadata": {
            "tags": []
          },
          "execution_count": 152
        },
        {
          "output_type": "display_data",
          "data": {
            "image/png": "[encoded data removed]",
            "text/plain": [
              "<Figure size 432x288 with 1 Axes>"
            ]
          },
          "metadata": {
            "tags": [],
            "needs_background": "light"
          }
        }
      ]
    },
    {
      "cell_type": "code",
      "metadata": {
        "id": "_LHt2JYwN89C",
        "colab_type": "code",
        "colab": {
          "base_uri": "https://localhost:8080/",
          "height": 822
        },
        "outputId": "658fe802-2c05-401f-ef58-7e6d0ee0afe3"
      },
      "source": [
        "encoding = encoder.predict(X_test)\n",
        "\n",
        "plt.scatter(encoding[:, 0], encoding[:, 1], marker=\"s\", s=40, cmap=\"RdBu\")\n",
        "plt.show()\n",
        "\n",
        "km = KMeans(n_clusters=5, n_init=20, n_jobs=1)\n",
        "\n",
        "y_pred = km.fit_predict(encoding)\n",
        "\n",
        "confusion_matrix = sklearn.metrics.confusion_matrix(y_test, y_pred)\n",
        "\n",
        "sns.heatmap(confusion_matrix, annot=True, fmt=\"d\", annot_kws={\"size\": 20})\n",
        "plt.title(\"Confusion matrix\", fontsize=30)\n",
        "plt.ylabel('True label', fontsize=25)\n",
        "plt.xlabel('Clustering label', fontsize=25)\n",
        "plt.show()\n",
        "\n",
        "plt.scatter(encoding[:, 0], encoding[:, 1], c=y_test)\n",
        "plt.colorbar()\n",
        "plt.show()\n"
      ],
      "execution_count": 153,
      "outputs": [
        {
          "output_type": "display_data",
          "data": {
            "image/png": "[encoded data removed]",
            "text/plain": [
              "<Figure size 432x288 with 1 Axes>"
            ]
          },
          "metadata": {
            "tags": [],
            "needs_background": "light"
          }
        },
        {
          "output_type": "display_data",
          "data": {
            "image/png": "[encoded data removed]",
            "text/plain": [
              "<Figure size 432x288 with 2 Axes>"
            ]
          },
          "metadata": {
            "tags": [],
            "needs_background": "light"
          }
        },
        {
          "output_type": "display_data",
          "data": {
            "image/png": "[encoded data removed]",
            "text/plain": [
              "<Figure size 432x288 with 2 Axes>"
            ]
          },
          "metadata": {
            "tags": [],
            "needs_background": "light"
          }
        }
      ]
    },
    {
      "cell_type": "code",
      "metadata": {
        "id": "mQQO8v7nkgcH",
        "colab_type": "code",
        "colab": {
          "base_uri": "https://localhost:8080/",
          "height": 34
        },
        "outputId": "871d1c30-4c5f-44d4-8945-0c31c359cae2"
      },
      "source": [
        "sklearn.metrics.accuracy_score(y_test, y_pred)"
      ],
      "execution_count": 154,
      "outputs": [
        {
          "output_type": "execute_result",
          "data": {
            "text/plain": [
              "0.5313439740920657"
            ]
          },
          "metadata": {
            "tags": []
          },
          "execution_count": 154
        }
      ]
    },
    {
      "cell_type": "code",
      "metadata": {
        "id": "VxJm2u5IsHKz",
        "colab_type": "code",
        "colab": {}
      },
      "source": [
        "autoencoder.save('clust_model')"
      ],
      "execution_count": 155,
      "outputs": []
    },
    {
      "cell_type": "code",
      "metadata": {
        "id": "OiTpna5qsoo2",
        "colab_type": "code",
        "colab": {
          "base_uri": "https://localhost:8080/",
          "height": 34
        },
        "outputId": "1587f5cd-6523-4684-ef33-d5c380564efe"
      },
      "source": [
        "k = KMeans(n_clusters=5, n_init=20, n_jobs=1)\n",
        "y_kmeans = k.fit_predict(X_test)\n",
        "sklearn.metrics.accuracy_score(y_test.values, y_kmeans)"
      ],
      "execution_count": 158,
      "outputs": [
        {
          "output_type": "execute_result",
          "data": {
            "text/plain": [
              "0.4251677076104557"
            ]
          },
          "metadata": {
            "tags": []
          },
          "execution_count": 158
        }
      ]
    },
    {
      "cell_type": "code",
      "metadata": {
        "id": "tI_fXwKSsw9X",
        "colab_type": "code",
        "colab": {}
      },
      "source": [
        ""
      ],
      "execution_count": null,
      "outputs": []
    }
  ]
}