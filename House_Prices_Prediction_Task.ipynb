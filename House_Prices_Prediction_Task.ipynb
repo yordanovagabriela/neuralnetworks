{
  "nbformat": 4,
  "nbformat_minor": 0,
  "metadata": {
    "colab": {
      "name": "House Price Predictions.ipynb",
      "provenance": [],
      "collapsed_sections": [],
      "toc_visible": true,
      "authorship_tag": "ABX9TyOA+vtXmdRtRKj+/NNFuJRK",
      "include_colab_link": true
    },
    "kernelspec": {
      "name": "python3",
      "display_name": "Python 3"
    },
    "accelerator": "GPU"
  },
  "cells": [
    {
      "cell_type": "markdown",
      "metadata": {
        "id": "view-in-github",
        "colab_type": "text"
      },
      "source": [
        "<a href=\"https://colab.research.google.com/github/yordanovagabriela/neuralnetworks/blob/master/House_Prices_Prediction_Task.ipynb\" target=\"_parent\"><img src=\"https://colab.research.google.com/assets/colab-badge.svg\" alt=\"Open In Colab\"/></a>"
      ]
    },
    {
      "cell_type": "markdown",
      "metadata": {
        "id": "v-VN8FrXJ_ji",
        "colab_type": "text"
      },
      "source": [
        "# Import Libraries"
      ]
    },
    {
      "cell_type": "code",
      "metadata": {
        "id": "8RlkST3m-sba",
        "colab_type": "code",
        "colab": {}
      },
      "source": [
        "!pip install -q -U keras-tuner"
      ],
      "execution_count": 39,
      "outputs": []
    },
    {
      "cell_type": "code",
      "metadata": {
        "id": "ili59nUGLs88",
        "colab_type": "code",
        "colab": {
          "base_uri": "https://localhost:8080/",
          "height": 34
        },
        "outputId": "2686ad01-62ff-42c4-f2b7-a9ab171f7e86"
      },
      "source": [
        "import pandas as pd\n",
        "import numpy as np\n",
        "import matplotlib.pyplot as plt\n",
        "\n",
        "import IPython\n",
        "import kerastuner as kt\n",
        "\n",
        "import tensorflow as tf\n",
        "\n",
        "from tensorflow import keras\n",
        "from tensorflow.keras import layers\n",
        "from tensorflow.keras.models import Sequential\n",
        "from tensorflow.keras.layers import Dense\n",
        "\n",
        "from sklearn.preprocessing import MinMaxScaler\n",
        "from sklearn.model_selection import train_test_split\n",
        "from sklearn.metrics import mean_squared_error,mean_absolute_error\n",
        "\n",
        "print(tf.__version__)"
      ],
      "execution_count": 40,
      "outputs": [
        {
          "output_type": "stream",
          "text": [
            "2.2.0\n"
          ],
          "name": "stdout"
        }
      ]
    },
    {
      "cell_type": "markdown",
      "metadata": {
        "id": "NTP7rPJOKHKk",
        "colab_type": "text"
      },
      "source": [
        "# Load Dataset"
      ]
    },
    {
      "cell_type": "code",
      "metadata": {
        "id": "fAmWwfvXKIvf",
        "colab_type": "code",
        "colab": {
          "base_uri": "https://localhost:8080/",
          "height": 218
        },
        "outputId": "d581fa64-85d9-48b0-8753-0af8f097e07d"
      },
      "source": [
        "dataset = pd.read_csv(\"./kc_house_data.csv\")\n",
        "dataset.head(5)"
      ],
      "execution_count": 41,
      "outputs": [
        {
          "output_type": "execute_result",
          "data": {
            "text/html": [
              "<div>\n",
              "<style scoped>\n",
              "    .dataframe tbody tr th:only-of-type {\n",
              "        vertical-align: middle;\n",
              "    }\n",
              "\n",
              "    .dataframe tbody tr th {\n",
              "        vertical-align: top;\n",
              "    }\n",
              "\n",
              "    .dataframe thead th {\n",
              "        text-align: right;\n",
              "    }\n",
              "</style>\n",
              "<table border=\"1\" class=\"dataframe\">\n",
              "  <thead>\n",
              "    <tr style=\"text-align: right;\">\n",
              "      <th></th>\n",
              "      <th>id</th>\n",
              "      <th>date</th>\n",
              "      <th>price</th>\n",
              "      <th>bedrooms</th>\n",
              "      <th>bathrooms</th>\n",
              "      <th>sqft_living</th>\n",
              "      <th>sqft_lot</th>\n",
              "      <th>floors</th>\n",
              "      <th>waterfront</th>\n",
              "      <th>view</th>\n",
              "      <th>condition</th>\n",
              "      <th>grade</th>\n",
              "      <th>sqft_above</th>\n",
              "      <th>sqft_basement</th>\n",
              "      <th>yr_built</th>\n",
              "      <th>yr_renovated</th>\n",
              "      <th>zipcode</th>\n",
              "      <th>lat</th>\n",
              "      <th>long</th>\n",
              "      <th>sqft_living15</th>\n",
              "      <th>sqft_lot15</th>\n",
              "    </tr>\n",
              "  </thead>\n",
              "  <tbody>\n",
              "    <tr>\n",
              "      <th>0</th>\n",
              "      <td>7129300520</td>\n",
              "      <td>20141013T000000</td>\n",
              "      <td>221900.0</td>\n",
              "      <td>3</td>\n",
              "      <td>1.00</td>\n",
              "      <td>1180</td>\n",
              "      <td>5650</td>\n",
              "      <td>1.0</td>\n",
              "      <td>0</td>\n",
              "      <td>0</td>\n",
              "      <td>3</td>\n",
              "      <td>7</td>\n",
              "      <td>1180</td>\n",
              "      <td>0</td>\n",
              "      <td>1955</td>\n",
              "      <td>0</td>\n",
              "      <td>98178</td>\n",
              "      <td>47.5112</td>\n",
              "      <td>-122.257</td>\n",
              "      <td>1340</td>\n",
              "      <td>5650</td>\n",
              "    </tr>\n",
              "    <tr>\n",
              "      <th>1</th>\n",
              "      <td>6414100192</td>\n",
              "      <td>20141209T000000</td>\n",
              "      <td>538000.0</td>\n",
              "      <td>3</td>\n",
              "      <td>2.25</td>\n",
              "      <td>2570</td>\n",
              "      <td>7242</td>\n",
              "      <td>2.0</td>\n",
              "      <td>0</td>\n",
              "      <td>0</td>\n",
              "      <td>3</td>\n",
              "      <td>7</td>\n",
              "      <td>2170</td>\n",
              "      <td>400</td>\n",
              "      <td>1951</td>\n",
              "      <td>1991</td>\n",
              "      <td>98125</td>\n",
              "      <td>47.7210</td>\n",
              "      <td>-122.319</td>\n",
              "      <td>1690</td>\n",
              "      <td>7639</td>\n",
              "    </tr>\n",
              "    <tr>\n",
              "      <th>2</th>\n",
              "      <td>5631500400</td>\n",
              "      <td>20150225T000000</td>\n",
              "      <td>180000.0</td>\n",
              "      <td>2</td>\n",
              "      <td>1.00</td>\n",
              "      <td>770</td>\n",
              "      <td>10000</td>\n",
              "      <td>1.0</td>\n",
              "      <td>0</td>\n",
              "      <td>0</td>\n",
              "      <td>3</td>\n",
              "      <td>6</td>\n",
              "      <td>770</td>\n",
              "      <td>0</td>\n",
              "      <td>1933</td>\n",
              "      <td>0</td>\n",
              "      <td>98028</td>\n",
              "      <td>47.7379</td>\n",
              "      <td>-122.233</td>\n",
              "      <td>2720</td>\n",
              "      <td>8062</td>\n",
              "    </tr>\n",
              "    <tr>\n",
              "      <th>3</th>\n",
              "      <td>2487200875</td>\n",
              "      <td>20141209T000000</td>\n",
              "      <td>604000.0</td>\n",
              "      <td>4</td>\n",
              "      <td>3.00</td>\n",
              "      <td>1960</td>\n",
              "      <td>5000</td>\n",
              "      <td>1.0</td>\n",
              "      <td>0</td>\n",
              "      <td>0</td>\n",
              "      <td>5</td>\n",
              "      <td>7</td>\n",
              "      <td>1050</td>\n",
              "      <td>910</td>\n",
              "      <td>1965</td>\n",
              "      <td>0</td>\n",
              "      <td>98136</td>\n",
              "      <td>47.5208</td>\n",
              "      <td>-122.393</td>\n",
              "      <td>1360</td>\n",
              "      <td>5000</td>\n",
              "    </tr>\n",
              "    <tr>\n",
              "      <th>4</th>\n",
              "      <td>1954400510</td>\n",
              "      <td>20150218T000000</td>\n",
              "      <td>510000.0</td>\n",
              "      <td>3</td>\n",
              "      <td>2.00</td>\n",
              "      <td>1680</td>\n",
              "      <td>8080</td>\n",
              "      <td>1.0</td>\n",
              "      <td>0</td>\n",
              "      <td>0</td>\n",
              "      <td>3</td>\n",
              "      <td>8</td>\n",
              "      <td>1680</td>\n",
              "      <td>0</td>\n",
              "      <td>1987</td>\n",
              "      <td>0</td>\n",
              "      <td>98074</td>\n",
              "      <td>47.6168</td>\n",
              "      <td>-122.045</td>\n",
              "      <td>1800</td>\n",
              "      <td>7503</td>\n",
              "    </tr>\n",
              "  </tbody>\n",
              "</table>\n",
              "</div>"
            ],
            "text/plain": [
              "           id             date     price  ...     long  sqft_living15  sqft_lot15\n",
              "0  7129300520  20141013T000000  221900.0  ... -122.257           1340        5650\n",
              "1  6414100192  20141209T000000  538000.0  ... -122.319           1690        7639\n",
              "2  5631500400  20150225T000000  180000.0  ... -122.233           2720        8062\n",
              "3  2487200875  20141209T000000  604000.0  ... -122.393           1360        5000\n",
              "4  1954400510  20150218T000000  510000.0  ... -122.045           1800        7503\n",
              "\n",
              "[5 rows x 21 columns]"
            ]
          },
          "metadata": {
            "tags": []
          },
          "execution_count": 41
        }
      ]
    },
    {
      "cell_type": "markdown",
      "metadata": {
        "id": "-ieQwXEpKErG",
        "colab_type": "text"
      },
      "source": [
        "# Preprocess Data"
      ]
    },
    {
      "cell_type": "markdown",
      "metadata": {
        "id": "exE0Do0mqJQK",
        "colab_type": "text"
      },
      "source": [
        "## Cleanup columns"
      ]
    },
    {
      "cell_type": "code",
      "metadata": {
        "id": "xTWNIacXqMYn",
        "colab_type": "code",
        "colab": {}
      },
      "source": [
        "del dataset['id']\n",
        "del dataset['date']\n",
        "del dataset['zipcode']"
      ],
      "execution_count": 42,
      "outputs": []
    },
    {
      "cell_type": "markdown",
      "metadata": {
        "id": "Ihs-8pz9Kr3-",
        "colab_type": "text"
      },
      "source": [
        "## Check For Unknown Values \n"
      ]
    },
    {
      "cell_type": "code",
      "metadata": {
        "id": "31fMfL2wKGgg",
        "colab_type": "code",
        "colab": {
          "base_uri": "https://localhost:8080/",
          "height": 345
        },
        "outputId": "34c8876c-f6ba-4a6c-ed21-1e0f6caebc96"
      },
      "source": [
        "dataset.isna().sum()"
      ],
      "execution_count": 43,
      "outputs": [
        {
          "output_type": "execute_result",
          "data": {
            "text/plain": [
              "price            0\n",
              "bedrooms         0\n",
              "bathrooms        0\n",
              "sqft_living      0\n",
              "sqft_lot         0\n",
              "floors           0\n",
              "waterfront       0\n",
              "view             0\n",
              "condition        0\n",
              "grade            0\n",
              "sqft_above       0\n",
              "sqft_basement    0\n",
              "yr_built         0\n",
              "yr_renovated     0\n",
              "lat              0\n",
              "long             0\n",
              "sqft_living15    0\n",
              "sqft_lot15       0\n",
              "dtype: int64"
            ]
          },
          "metadata": {
            "tags": []
          },
          "execution_count": 43
        }
      ]
    },
    {
      "cell_type": "markdown",
      "metadata": {
        "id": "FEUocKBFBaS5",
        "colab_type": "text"
      },
      "source": [
        "## Drop Duplicate Values"
      ]
    },
    {
      "cell_type": "code",
      "metadata": {
        "id": "mkhl6X34A2Ht",
        "colab_type": "code",
        "colab": {}
      },
      "source": [
        "dataset.drop_duplicates(keep = False, inplace = True)"
      ],
      "execution_count": 44,
      "outputs": []
    },
    {
      "cell_type": "markdown",
      "metadata": {
        "id": "xlYnNxE_McuX",
        "colab_type": "text"
      },
      "source": [
        "## Split features from labels"
      ]
    },
    {
      "cell_type": "code",
      "metadata": {
        "id": "So8AE8EXMTNW",
        "colab_type": "code",
        "colab": {}
      },
      "source": [
        "X = dataset.drop('price',axis=1)\n",
        "y = dataset['price']"
      ],
      "execution_count": 45,
      "outputs": []
    },
    {
      "cell_type": "markdown",
      "metadata": {
        "id": "irALBWRWqUDP",
        "colab_type": "text"
      },
      "source": [
        "## Normalize the data"
      ]
    },
    {
      "cell_type": "code",
      "metadata": {
        "id": "H1KxepcyTsnH",
        "colab_type": "code",
        "colab": {}
      },
      "source": [
        "scaler = MinMaxScaler()\n",
        "scaled_x = scaler.fit_transform(X)"
      ],
      "execution_count": 46,
      "outputs": []
    },
    {
      "cell_type": "markdown",
      "metadata": {
        "id": "GNkAtcNErPOa",
        "colab_type": "text"
      },
      "source": [
        "## Split data into train and test"
      ]
    },
    {
      "cell_type": "code",
      "metadata": {
        "id": "sdU_GMAwT-2I",
        "colab_type": "code",
        "colab": {}
      },
      "source": [
        "X_train, X_test, y_train, y_test = train_test_split(X, y, test_size=0.2, random_state = 42)"
      ],
      "execution_count": 47,
      "outputs": []
    },
    {
      "cell_type": "code",
      "metadata": {
        "id": "8aGOTSFhUF97",
        "colab_type": "code",
        "colab": {
          "base_uri": "https://localhost:8080/",
          "height": 52
        },
        "outputId": "66adfc31-3de8-415b-f75c-515de291541b"
      },
      "source": [
        "print(\"Train set size:\", X_train.shape[0])\n",
        "print(\"Test set size:\", X_test.shape[0])"
      ],
      "execution_count": 48,
      "outputs": [
        {
          "output_type": "stream",
          "text": [
            "Train set size: 17282\n",
            "Test set size: 4321\n"
          ],
          "name": "stdout"
        }
      ]
    },
    {
      "cell_type": "markdown",
      "metadata": {
        "id": "hoPCJUMtOfsB",
        "colab_type": "text"
      },
      "source": [
        "# Build Model"
      ]
    },
    {
      "cell_type": "code",
      "metadata": {
        "id": "-0EjEzJTNQ5z",
        "colab_type": "code",
        "colab": {}
      },
      "source": [
        "def build_model(hidden_units=64, learning_rate=0.001):\n",
        "  model = keras.Sequential([\n",
        "    layers.Flatten(input_shape=[len(X_train.keys())]),\n",
        "    layers.Dense(hidden_units, activation='relu'),\n",
        "    layers.Dense(1)\n",
        "  ])\n",
        "\n",
        "  optimizer = tf.keras.optimizers.RMSprop(learning_rate)\n",
        "\n",
        "  model.compile(loss='mse', optimizer=optimizer, metrics=['mae', 'mse'])\n",
        "  return model\n",
        "\n",
        "model = build_model()"
      ],
      "execution_count": 49,
      "outputs": []
    },
    {
      "cell_type": "markdown",
      "metadata": {
        "id": "Nqm9vqxJu8DR",
        "colab_type": "text"
      },
      "source": [
        "# Train Model"
      ]
    },
    {
      "cell_type": "code",
      "metadata": {
        "id": "EXdKpoePO3j3",
        "colab_type": "code",
        "colab": {
          "base_uri": "https://localhost:8080/",
          "height": 1000
        },
        "outputId": "59b04ad1-6b17-4e41-e591-8706dcda4419"
      },
      "source": [
        "es = keras.callbacks.EarlyStopping(monitor='val_loss', mode='min', verbose=1, patience=20, restore_best_weights=True)\n",
        "\n",
        "def train_model(model, X_train, y_train, X_val, y_val, batch_size=64, epochs=100, es=[]):\n",
        "  model.fit(X_train,y_train.values,validation_data=(X_val, y_val.values), batch_size=batch_size,epochs=epochs, callbacks=[es])\n",
        "\n",
        "train_model(model, X_train=X_train, y_train=y_train, X_val=X_test, y_val=y_test, es=es)"
      ],
      "execution_count": 50,
      "outputs": [
        {
          "output_type": "stream",
          "text": [
            "Epoch 1/100\n",
            "271/271 [==============================] - 2s 6ms/step - loss: 378683719680.0000 - mae: 495268.3125 - mse: 378683719680.0000 - val_loss: 329450323968.0000 - val_mae: 453637.7812 - val_mse: 329450323968.0000\n",
            "Epoch 2/100\n",
            "271/271 [==============================] - 1s 5ms/step - loss: 314387857408.0000 - mae: 419835.9062 - mse: 314387857408.0000 - val_loss: 278455287808.0000 - val_mae: 393950.3125 - val_mse: 278455287808.0000\n",
            "Epoch 3/100\n",
            "271/271 [==============================] - 1s 5ms/step - loss: 263531266048.0000 - mae: 365016.9375 - mse: 263531266048.0000 - val_loss: 221163012096.0000 - val_mae: 328986.1250 - val_mse: 221163012096.0000\n",
            "Epoch 4/100\n",
            "271/271 [==============================] - 2s 6ms/step - loss: 194891481088.0000 - mae: 288399.4062 - mse: 194891481088.0000 - val_loss: 152650727424.0000 - val_mae: 246244.9375 - val_mse: 152650727424.0000\n",
            "Epoch 5/100\n",
            "271/271 [==============================] - 1s 5ms/step - loss: 125594714112.0000 - mae: 211555.6406 - mse: 125594714112.0000 - val_loss: 96579862528.0000 - val_mae: 185101.0312 - val_mse: 96579862528.0000\n",
            "Epoch 6/100\n",
            "271/271 [==============================] - 1s 5ms/step - loss: 86005104640.0000 - mae: 177355.6719 - mse: 86005104640.0000 - val_loss: 76773310464.0000 - val_mae: 174224.9531 - val_mse: 76773310464.0000\n",
            "Epoch 7/100\n",
            "271/271 [==============================] - 1s 5ms/step - loss: 77598441472.0000 - mae: 176425.6875 - mse: 77598441472.0000 - val_loss: 74834952192.0000 - val_mae: 172377.2031 - val_mse: 74834952192.0000\n",
            "Epoch 8/100\n",
            "271/271 [==============================] - 1s 5ms/step - loss: 75732516864.0000 - mae: 173892.6562 - mse: 75732516864.0000 - val_loss: 73412050944.0000 - val_mae: 173113.9531 - val_mse: 73412050944.0000\n",
            "Epoch 9/100\n",
            "271/271 [==============================] - 1s 5ms/step - loss: 74180132864.0000 - mae: 172931.8906 - mse: 74180132864.0000 - val_loss: 72342200320.0000 - val_mae: 168734.7031 - val_mse: 72342200320.0000\n",
            "Epoch 10/100\n",
            "271/271 [==============================] - 1s 5ms/step - loss: 72986198016.0000 - mae: 170244.8750 - mse: 72986198016.0000 - val_loss: 71283032064.0000 - val_mae: 168994.7031 - val_mse: 71283032064.0000\n",
            "Epoch 11/100\n",
            "271/271 [==============================] - 1s 5ms/step - loss: 71822639104.0000 - mae: 169595.2031 - mse: 71822639104.0000 - val_loss: 70337716224.0000 - val_mae: 168153.7812 - val_mse: 70337716224.0000\n",
            "Epoch 12/100\n",
            "271/271 [==============================] - 1s 5ms/step - loss: 70836330496.0000 - mae: 168284.6250 - mse: 70836330496.0000 - val_loss: 69561245696.0000 - val_mae: 167404.3281 - val_mse: 69561245696.0000\n",
            "Epoch 13/100\n",
            "271/271 [==============================] - 1s 5ms/step - loss: 69907873792.0000 - mae: 167308.9688 - mse: 69907873792.0000 - val_loss: 69105393664.0000 - val_mae: 170893.1094 - val_mse: 69105393664.0000\n",
            "Epoch 14/100\n",
            "271/271 [==============================] - 1s 5ms/step - loss: 69147951104.0000 - mae: 167134.1250 - mse: 69147951104.0000 - val_loss: 68338061312.0000 - val_mae: 166106.9219 - val_mse: 68338061312.0000\n",
            "Epoch 15/100\n",
            "271/271 [==============================] - 1s 5ms/step - loss: 68421357568.0000 - mae: 166118.2812 - mse: 68421357568.0000 - val_loss: 67934834688.0000 - val_mae: 165850.5781 - val_mse: 67934834688.0000\n",
            "Epoch 16/100\n",
            "271/271 [==============================] - 1s 5ms/step - loss: 67925577728.0000 - mae: 165758.6406 - mse: 67925577728.0000 - val_loss: 67385167872.0000 - val_mae: 167943.7812 - val_mse: 67385167872.0000\n",
            "Epoch 17/100\n",
            "271/271 [==============================] - 1s 5ms/step - loss: 67441688576.0000 - mae: 165916.1406 - mse: 67441688576.0000 - val_loss: 67132084224.0000 - val_mae: 166060.7188 - val_mse: 67132084224.0000\n",
            "Epoch 18/100\n",
            "271/271 [==============================] - 1s 5ms/step - loss: 67019784192.0000 - mae: 165602.7969 - mse: 67019784192.0000 - val_loss: 66807308288.0000 - val_mae: 165457.7188 - val_mse: 66807308288.0000\n",
            "Epoch 19/100\n",
            "271/271 [==============================] - 1s 6ms/step - loss: 66646347776.0000 - mae: 165401.3125 - mse: 66646347776.0000 - val_loss: 66488553472.0000 - val_mae: 167040.0781 - val_mse: 66488553472.0000\n",
            "Epoch 20/100\n",
            "271/271 [==============================] - 1s 5ms/step - loss: 66375000064.0000 - mae: 165436.8438 - mse: 66375000064.0000 - val_loss: 66513317888.0000 - val_mae: 165827.0156 - val_mse: 66513317888.0000\n",
            "Epoch 21/100\n",
            "271/271 [==============================] - 1s 5ms/step - loss: 66151833600.0000 - mae: 165399.2500 - mse: 66151833600.0000 - val_loss: 66090848256.0000 - val_mae: 166640.2344 - val_mse: 66090848256.0000\n",
            "Epoch 22/100\n",
            "271/271 [==============================] - 1s 5ms/step - loss: 65891397632.0000 - mae: 165919.5938 - mse: 65891397632.0000 - val_loss: 66380115968.0000 - val_mae: 164677.6875 - val_mse: 66380115968.0000\n",
            "Epoch 23/100\n",
            "271/271 [==============================] - 1s 5ms/step - loss: 65790791680.0000 - mae: 165324.1250 - mse: 65790791680.0000 - val_loss: 65949204480.0000 - val_mae: 166649.7812 - val_mse: 65949204480.0000\n",
            "Epoch 24/100\n",
            "271/271 [==============================] - 1s 5ms/step - loss: 65596362752.0000 - mae: 165700.8438 - mse: 65596362752.0000 - val_loss: 65809940480.0000 - val_mae: 166896.6562 - val_mse: 65809940480.0000\n",
            "Epoch 25/100\n",
            "271/271 [==============================] - 1s 5ms/step - loss: 65532895232.0000 - mae: 165706.7969 - mse: 65532895232.0000 - val_loss: 65903636480.0000 - val_mae: 167192.5000 - val_mse: 65903636480.0000\n",
            "Epoch 26/100\n",
            "271/271 [==============================] - 1s 5ms/step - loss: 65427623936.0000 - mae: 166221.1562 - mse: 65427623936.0000 - val_loss: 65745317888.0000 - val_mae: 166347.6562 - val_mse: 65745317888.0000\n",
            "Epoch 27/100\n",
            "271/271 [==============================] - 1s 5ms/step - loss: 65361223680.0000 - mae: 166097.6719 - mse: 65361223680.0000 - val_loss: 65715875840.0000 - val_mae: 167158.4062 - val_mse: 65715875840.0000\n",
            "Epoch 28/100\n",
            "271/271 [==============================] - 1s 5ms/step - loss: 65263558656.0000 - mae: 166257.6094 - mse: 65263558656.0000 - val_loss: 65856798720.0000 - val_mae: 166793.8750 - val_mse: 65856798720.0000\n",
            "Epoch 29/100\n",
            "271/271 [==============================] - 1s 5ms/step - loss: 65261244416.0000 - mae: 166325.2969 - mse: 65261244416.0000 - val_loss: 65685671936.0000 - val_mae: 168047.6406 - val_mse: 65685671936.0000\n",
            "Epoch 30/100\n",
            "271/271 [==============================] - 1s 5ms/step - loss: 65202438144.0000 - mae: 166628.2031 - mse: 65202438144.0000 - val_loss: 65868865536.0000 - val_mae: 167256.3438 - val_mse: 65868865536.0000\n",
            "Epoch 31/100\n",
            "271/271 [==============================] - 2s 6ms/step - loss: 65095446528.0000 - mae: 166425.9219 - mse: 65095446528.0000 - val_loss: 65824354304.0000 - val_mae: 170233.7812 - val_mse: 65824354304.0000\n",
            "Epoch 32/100\n",
            "271/271 [==============================] - 1s 5ms/step - loss: 65128865792.0000 - mae: 166857.2344 - mse: 65128865792.0000 - val_loss: 66056040448.0000 - val_mae: 167154.0469 - val_mse: 66056040448.0000\n",
            "Epoch 33/100\n",
            "271/271 [==============================] - 1s 5ms/step - loss: 65063120896.0000 - mae: 166692.2500 - mse: 65063120896.0000 - val_loss: 65704779776.0000 - val_mae: 169674.0781 - val_mse: 65704779776.0000\n",
            "Epoch 34/100\n",
            "271/271 [==============================] - 1s 5ms/step - loss: 65021124608.0000 - mae: 166756.3438 - mse: 65021124608.0000 - val_loss: 66132639744.0000 - val_mae: 166672.9219 - val_mse: 66132639744.0000\n",
            "Epoch 35/100\n",
            "271/271 [==============================] - 1s 5ms/step - loss: 65059700736.0000 - mae: 166611.2969 - mse: 65059700736.0000 - val_loss: 65770475520.0000 - val_mae: 166962.9531 - val_mse: 65770475520.0000\n",
            "Epoch 36/100\n",
            "271/271 [==============================] - 2s 6ms/step - loss: 64964739072.0000 - mae: 166704.1094 - mse: 64964739072.0000 - val_loss: 65872334848.0000 - val_mae: 167514.8750 - val_mse: 65872334848.0000\n",
            "Epoch 37/100\n",
            "271/271 [==============================] - 2s 6ms/step - loss: 64972021760.0000 - mae: 166923.7812 - mse: 64972021760.0000 - val_loss: 65599598592.0000 - val_mae: 168496.2969 - val_mse: 65599598592.0000\n",
            "Epoch 38/100\n",
            "271/271 [==============================] - 2s 6ms/step - loss: 64975151104.0000 - mae: 166849.1719 - mse: 64975151104.0000 - val_loss: 65634131968.0000 - val_mae: 168293.6719 - val_mse: 65634131968.0000\n",
            "Epoch 39/100\n",
            "271/271 [==============================] - 1s 5ms/step - loss: 64930304000.0000 - mae: 166686.6719 - mse: 64930304000.0000 - val_loss: 65580666880.0000 - val_mae: 169340.5469 - val_mse: 65580666880.0000\n",
            "Epoch 40/100\n",
            "271/271 [==============================] - 1s 5ms/step - loss: 64920076288.0000 - mae: 166930.6250 - mse: 64920076288.0000 - val_loss: 65572630528.0000 - val_mae: 169086.1250 - val_mse: 65572630528.0000\n",
            "Epoch 41/100\n",
            "271/271 [==============================] - 1s 5ms/step - loss: 64901484544.0000 - mae: 166799.6719 - mse: 64901484544.0000 - val_loss: 65546878976.0000 - val_mae: 169208.1406 - val_mse: 65546878976.0000\n",
            "Epoch 42/100\n",
            "271/271 [==============================] - 1s 5ms/step - loss: 64822468608.0000 - mae: 167049.4062 - mse: 64822468608.0000 - val_loss: 65652232192.0000 - val_mae: 169874.7344 - val_mse: 65652232192.0000\n",
            "Epoch 43/100\n",
            "271/271 [==============================] - 1s 5ms/step - loss: 64842526720.0000 - mae: 166798.6719 - mse: 64842526720.0000 - val_loss: 65640382464.0000 - val_mae: 167623.5469 - val_mse: 65640382464.0000\n",
            "Epoch 44/100\n",
            "271/271 [==============================] - 2s 6ms/step - loss: 64789348352.0000 - mae: 167127.0156 - mse: 64789348352.0000 - val_loss: 66001784832.0000 - val_mae: 167021.1250 - val_mse: 66001784832.0000\n",
            "Epoch 45/100\n",
            "271/271 [==============================] - 1s 5ms/step - loss: 64837378048.0000 - mae: 166659.5938 - mse: 64837378048.0000 - val_loss: 65458135040.0000 - val_mae: 168790.1094 - val_mse: 65458135040.0000\n",
            "Epoch 46/100\n",
            "271/271 [==============================] - 1s 5ms/step - loss: 64727371776.0000 - mae: 166971.7969 - mse: 64727371776.0000 - val_loss: 65744052224.0000 - val_mae: 167239.3594 - val_mse: 65744052224.0000\n",
            "Epoch 47/100\n",
            "271/271 [==============================] - 1s 5ms/step - loss: 64755707904.0000 - mae: 166698.5625 - mse: 64755707904.0000 - val_loss: 65488297984.0000 - val_mae: 167061.1875 - val_mse: 65488297984.0000\n",
            "Epoch 48/100\n",
            "271/271 [==============================] - 1s 5ms/step - loss: 64732696576.0000 - mae: 166719.0469 - mse: 64732696576.0000 - val_loss: 65999003648.0000 - val_mae: 167640.9531 - val_mse: 65999003648.0000\n",
            "Epoch 49/100\n",
            "271/271 [==============================] - 1s 5ms/step - loss: 64705855488.0000 - mae: 166592.7031 - mse: 64705855488.0000 - val_loss: 65734615040.0000 - val_mae: 167333.1562 - val_mse: 65734615040.0000\n",
            "Epoch 50/100\n",
            "271/271 [==============================] - 1s 5ms/step - loss: 64699527168.0000 - mae: 166536.5625 - mse: 64699527168.0000 - val_loss: 65464168448.0000 - val_mae: 169584.6406 - val_mse: 65464168448.0000\n",
            "Epoch 51/100\n",
            "271/271 [==============================] - 1s 5ms/step - loss: 64704520192.0000 - mae: 166922.1406 - mse: 64704520192.0000 - val_loss: 65413156864.0000 - val_mae: 167440.7969 - val_mse: 65413156864.0000\n",
            "Epoch 52/100\n",
            "271/271 [==============================] - 1s 5ms/step - loss: 64663461888.0000 - mae: 166825.6562 - mse: 64663461888.0000 - val_loss: 65427009536.0000 - val_mae: 167449.9531 - val_mse: 65427009536.0000\n",
            "Epoch 53/100\n",
            "271/271 [==============================] - 1s 5ms/step - loss: 64610603008.0000 - mae: 166898.7656 - mse: 64610603008.0000 - val_loss: 65380970496.0000 - val_mae: 169077.4844 - val_mse: 65380970496.0000\n",
            "Epoch 54/100\n",
            "271/271 [==============================] - 1s 5ms/step - loss: 64616488960.0000 - mae: 166608.8125 - mse: 64616488960.0000 - val_loss: 65352298496.0000 - val_mae: 167454.0469 - val_mse: 65352298496.0000\n",
            "Epoch 55/100\n",
            "271/271 [==============================] - 1s 5ms/step - loss: 64614432768.0000 - mae: 166709.2656 - mse: 64614432768.0000 - val_loss: 65300021248.0000 - val_mae: 167644.4219 - val_mse: 65300021248.0000\n",
            "Epoch 56/100\n",
            "271/271 [==============================] - 1s 5ms/step - loss: 64588075008.0000 - mae: 166466.6562 - mse: 64588075008.0000 - val_loss: 65790394368.0000 - val_mae: 171511.8906 - val_mse: 65790394368.0000\n",
            "Epoch 57/100\n",
            "271/271 [==============================] - 1s 5ms/step - loss: 64573943808.0000 - mae: 167091.9531 - mse: 64573943808.0000 - val_loss: 65371045888.0000 - val_mae: 167070.0312 - val_mse: 65371045888.0000\n",
            "Epoch 58/100\n",
            "271/271 [==============================] - 1s 5ms/step - loss: 64593932288.0000 - mae: 166371.6406 - mse: 64593932288.0000 - val_loss: 65233915904.0000 - val_mae: 167752.5312 - val_mse: 65233915904.0000\n",
            "Epoch 59/100\n",
            "271/271 [==============================] - 1s 5ms/step - loss: 64521089024.0000 - mae: 166628.9219 - mse: 64521089024.0000 - val_loss: 65296142336.0000 - val_mae: 166770.2812 - val_mse: 65296142336.0000\n",
            "Epoch 60/100\n",
            "271/271 [==============================] - 1s 5ms/step - loss: 64551366656.0000 - mae: 166359.8438 - mse: 64551366656.0000 - val_loss: 65162395648.0000 - val_mae: 167490.7344 - val_mse: 65162395648.0000\n",
            "Epoch 61/100\n",
            "271/271 [==============================] - 1s 5ms/step - loss: 64508342272.0000 - mae: 166635.3906 - mse: 64508342272.0000 - val_loss: 65366745088.0000 - val_mae: 167106.6250 - val_mse: 65366745088.0000\n",
            "Epoch 62/100\n",
            "271/271 [==============================] - 1s 5ms/step - loss: 64454242304.0000 - mae: 166441.9375 - mse: 64454242304.0000 - val_loss: 65169252352.0000 - val_mae: 167866.8125 - val_mse: 65169252352.0000\n",
            "Epoch 63/100\n",
            "271/271 [==============================] - 1s 5ms/step - loss: 64465539072.0000 - mae: 166498.3750 - mse: 64465539072.0000 - val_loss: 65461628928.0000 - val_mae: 167039.7969 - val_mse: 65461628928.0000\n",
            "Epoch 64/100\n",
            "271/271 [==============================] - 1s 5ms/step - loss: 64413765632.0000 - mae: 166188.6250 - mse: 64413765632.0000 - val_loss: 65233510400.0000 - val_mae: 169540.0781 - val_mse: 65233510400.0000\n",
            "Epoch 65/100\n",
            "271/271 [==============================] - 1s 5ms/step - loss: 64428670976.0000 - mae: 166614.1875 - mse: 64428670976.0000 - val_loss: 65425272832.0000 - val_mae: 167329.6094 - val_mse: 65425272832.0000\n",
            "Epoch 66/100\n",
            "271/271 [==============================] - 1s 5ms/step - loss: 64388030464.0000 - mae: 166488.2344 - mse: 64388030464.0000 - val_loss: 65038880768.0000 - val_mae: 167363.6719 - val_mse: 65038880768.0000\n",
            "Epoch 67/100\n",
            "271/271 [==============================] - 1s 5ms/step - loss: 64347779072.0000 - mae: 166515.7969 - mse: 64347779072.0000 - val_loss: 65346482176.0000 - val_mae: 166655.5938 - val_mse: 65346482176.0000\n",
            "Epoch 68/100\n",
            "271/271 [==============================] - 1s 5ms/step - loss: 64368418816.0000 - mae: 166111.4219 - mse: 64368418816.0000 - val_loss: 65083670528.0000 - val_mae: 167329.7031 - val_mse: 65083670528.0000\n",
            "Epoch 69/100\n",
            "271/271 [==============================] - 1s 5ms/step - loss: 64322568192.0000 - mae: 166035.0312 - mse: 64322568192.0000 - val_loss: 65156857856.0000 - val_mae: 169714.6562 - val_mse: 65156857856.0000\n",
            "Epoch 70/100\n",
            "271/271 [==============================] - 1s 5ms/step - loss: 64329441280.0000 - mae: 166473.6406 - mse: 64329441280.0000 - val_loss: 64974630912.0000 - val_mae: 167819.4219 - val_mse: 64974630912.0000\n",
            "Epoch 71/100\n",
            "271/271 [==============================] - 1s 5ms/step - loss: 64301248512.0000 - mae: 166232.5156 - mse: 64301248512.0000 - val_loss: 64965038080.0000 - val_mae: 167895.5312 - val_mse: 64965038080.0000\n",
            "Epoch 72/100\n",
            "271/271 [==============================] - 1s 5ms/step - loss: 64261365760.0000 - mae: 166080.4844 - mse: 64261365760.0000 - val_loss: 65338191872.0000 - val_mae: 170714.9531 - val_mse: 65338191872.0000\n",
            "Epoch 73/100\n",
            "271/271 [==============================] - 1s 5ms/step - loss: 64323928064.0000 - mae: 166372.7344 - mse: 64323928064.0000 - val_loss: 65099399168.0000 - val_mae: 168038.5156 - val_mse: 65099399168.0000\n",
            "Epoch 74/100\n",
            "271/271 [==============================] - 1s 5ms/step - loss: 64286842880.0000 - mae: 166327.8125 - mse: 64286842880.0000 - val_loss: 65049755648.0000 - val_mae: 168242.7812 - val_mse: 65049755648.0000\n",
            "Epoch 75/100\n",
            "271/271 [==============================] - 1s 5ms/step - loss: 64191332352.0000 - mae: 166251.5938 - mse: 64191332352.0000 - val_loss: 65593098240.0000 - val_mae: 166795.8906 - val_mse: 65593098240.0000\n",
            "Epoch 76/100\n",
            "271/271 [==============================] - 1s 5ms/step - loss: 64233050112.0000 - mae: 166069.3594 - mse: 64233050112.0000 - val_loss: 65239609344.0000 - val_mae: 166063.2188 - val_mse: 65239609344.0000\n",
            "Epoch 77/100\n",
            "271/271 [==============================] - 1s 5ms/step - loss: 64212307968.0000 - mae: 165808.5625 - mse: 64212307968.0000 - val_loss: 65024598016.0000 - val_mae: 167873.2500 - val_mse: 65024598016.0000\n",
            "Epoch 78/100\n",
            "271/271 [==============================] - 1s 5ms/step - loss: 64201351168.0000 - mae: 166306.9844 - mse: 64201351168.0000 - val_loss: 64905658368.0000 - val_mae: 167350.3125 - val_mse: 64905658368.0000\n",
            "Epoch 79/100\n",
            "271/271 [==============================] - 1s 5ms/step - loss: 64194560000.0000 - mae: 165930.5938 - mse: 64194560000.0000 - val_loss: 64908783616.0000 - val_mae: 167485.5938 - val_mse: 64908783616.0000\n",
            "Epoch 80/100\n",
            "271/271 [==============================] - 1s 5ms/step - loss: 64156262400.0000 - mae: 166129.8906 - mse: 64156262400.0000 - val_loss: 64980840448.0000 - val_mae: 166854.6562 - val_mse: 64980840448.0000\n",
            "Epoch 81/100\n",
            "271/271 [==============================] - 1s 5ms/step - loss: 64168878080.0000 - mae: 165947.7500 - mse: 64168878080.0000 - val_loss: 64883511296.0000 - val_mae: 167971.9844 - val_mse: 64883511296.0000\n",
            "Epoch 82/100\n",
            "271/271 [==============================] - 1s 5ms/step - loss: 64089915392.0000 - mae: 166184.9375 - mse: 64089915392.0000 - val_loss: 64976523264.0000 - val_mae: 166158.1406 - val_mse: 64976523264.0000\n",
            "Epoch 83/100\n",
            "271/271 [==============================] - 1s 5ms/step - loss: 64032587776.0000 - mae: 165580.6875 - mse: 64032587776.0000 - val_loss: 65369563136.0000 - val_mae: 167245.6719 - val_mse: 65369563136.0000\n",
            "Epoch 84/100\n",
            "271/271 [==============================] - 1s 5ms/step - loss: 64078503936.0000 - mae: 166012.9844 - mse: 64078503936.0000 - val_loss: 65294524416.0000 - val_mae: 170525.4375 - val_mse: 65294524416.0000\n",
            "Epoch 85/100\n",
            "271/271 [==============================] - 1s 5ms/step - loss: 64101216256.0000 - mae: 166234.8594 - mse: 64101216256.0000 - val_loss: 64835649536.0000 - val_mae: 168225.5938 - val_mse: 64835649536.0000\n",
            "Epoch 86/100\n",
            "271/271 [==============================] - 1s 5ms/step - loss: 64088322048.0000 - mae: 165919.7969 - mse: 64088322048.0000 - val_loss: 64809340928.0000 - val_mae: 167821.9844 - val_mse: 64809340928.0000\n",
            "Epoch 87/100\n",
            "271/271 [==============================] - 1s 5ms/step - loss: 64016072704.0000 - mae: 165945.2344 - mse: 64016072704.0000 - val_loss: 64793059328.0000 - val_mae: 167681.9688 - val_mse: 64793059328.0000\n",
            "Epoch 88/100\n",
            "271/271 [==============================] - 1s 5ms/step - loss: 64063520768.0000 - mae: 165445.0781 - mse: 64063520768.0000 - val_loss: 65481445376.0000 - val_mae: 166991.5312 - val_mse: 65481445376.0000\n",
            "Epoch 89/100\n",
            "271/271 [==============================] - 1s 5ms/step - loss: 64025108480.0000 - mae: 165868.8594 - mse: 64025108480.0000 - val_loss: 65223737344.0000 - val_mae: 166669.2500 - val_mse: 65223737344.0000\n",
            "Epoch 90/100\n",
            "271/271 [==============================] - 1s 5ms/step - loss: 64009814016.0000 - mae: 165701.7812 - mse: 64009814016.0000 - val_loss: 64742051840.0000 - val_mae: 167460.1406 - val_mse: 64742051840.0000\n",
            "Epoch 91/100\n",
            "271/271 [==============================] - 1s 5ms/step - loss: 63995396096.0000 - mae: 165892.1719 - mse: 63995396096.0000 - val_loss: 64844087296.0000 - val_mae: 166514.4844 - val_mse: 64844087296.0000\n",
            "Epoch 92/100\n",
            "271/271 [==============================] - 1s 5ms/step - loss: 63956992000.0000 - mae: 165582.5312 - mse: 63956992000.0000 - val_loss: 64659759104.0000 - val_mae: 167021.6719 - val_mse: 64659759104.0000\n",
            "Epoch 93/100\n",
            "271/271 [==============================] - 1s 5ms/step - loss: 63996985344.0000 - mae: 165370.8281 - mse: 63996985344.0000 - val_loss: 65209438208.0000 - val_mae: 166500.8125 - val_mse: 65209438208.0000\n",
            "Epoch 94/100\n",
            "271/271 [==============================] - 1s 5ms/step - loss: 63936577536.0000 - mae: 165602.6875 - mse: 63936577536.0000 - val_loss: 65014714368.0000 - val_mae: 165760.4844 - val_mse: 65014714368.0000\n",
            "Epoch 95/100\n",
            "271/271 [==============================] - 1s 5ms/step - loss: 63987896320.0000 - mae: 165267.5938 - mse: 63987896320.0000 - val_loss: 64714629120.0000 - val_mae: 166535.9062 - val_mse: 64714629120.0000\n",
            "Epoch 96/100\n",
            "271/271 [==============================] - 1s 5ms/step - loss: 63971667968.0000 - mae: 165358.7188 - mse: 63971667968.0000 - val_loss: 64913526784.0000 - val_mae: 166489.3281 - val_mse: 64913526784.0000\n",
            "Epoch 97/100\n",
            "271/271 [==============================] - 1s 5ms/step - loss: 63939039232.0000 - mae: 165434.7344 - mse: 63939039232.0000 - val_loss: 64865263616.0000 - val_mae: 166075.0938 - val_mse: 64865263616.0000\n",
            "Epoch 98/100\n",
            "271/271 [==============================] - 1s 5ms/step - loss: 63923003392.0000 - mae: 165262.9375 - mse: 63923003392.0000 - val_loss: 64843845632.0000 - val_mae: 166250.3438 - val_mse: 64843845632.0000\n",
            "Epoch 99/100\n",
            "271/271 [==============================] - 1s 5ms/step - loss: 63881064448.0000 - mae: 165169.8594 - mse: 63881064448.0000 - val_loss: 64677662720.0000 - val_mae: 166387.8281 - val_mse: 64677662720.0000\n",
            "Epoch 100/100\n",
            "271/271 [==============================] - 1s 5ms/step - loss: 63877820416.0000 - mae: 165376.8125 - mse: 63877820416.0000 - val_loss: 64773304320.0000 - val_mae: 166004.1250 - val_mse: 64773304320.0000\n"
          ],
          "name": "stdout"
        }
      ]
    },
    {
      "cell_type": "markdown",
      "metadata": {
        "id": "5YwPoA3jtBn-",
        "colab_type": "text"
      },
      "source": [
        "# Inspect Loss"
      ]
    },
    {
      "cell_type": "code",
      "metadata": {
        "id": "XAouZbXB_nv7",
        "colab_type": "code",
        "colab": {
          "base_uri": "https://localhost:8080/",
          "height": 783
        },
        "outputId": "fcf3db82-251f-4957-9b82-8cc11eb5193b"
      },
      "source": [
        "def plot_history(model):\n",
        "  losses = pd.DataFrame(model.history.history)\n",
        "  losses[['val_mae', 'mae']].plot()\n",
        "  losses[['val_mse', 'mse']].plot()\n",
        "  losses[['val_loss', 'loss']].plot()\n",
        "\n",
        "plot_history(model)"
      ],
      "execution_count": 51,
      "outputs": [
        {
          "output_type": "display_data",
          "data": {
            "image/png": "[encoded data removed]",
            "text/plain": [
              "<Figure size 432x288 with 1 Axes>"
            ]
          },
          "metadata": {
            "tags": [],
            "needs_background": "light"
          }
        },
        {
          "output_type": "display_data",
          "data": {
            "image/png": "[encoded data removed]",
            "text/plain": [
              "<Figure size 432x288 with 1 Axes>"
            ]
          },
          "metadata": {
            "tags": [],
            "needs_background": "light"
          }
        },
        {
          "output_type": "display_data",
          "data": {
            "image/png": "[encoded data removed]",
            "text/plain": [
              "<Figure size 432x288 with 1 Axes>"
            ]
          },
          "metadata": {
            "tags": [],
            "needs_background": "light"
          }
        }
      ]
    },
    {
      "cell_type": "markdown",
      "metadata": {
        "id": "UsaPVmvftL0r",
        "colab_type": "text"
      },
      "source": [
        "# Make Predictions"
      ]
    },
    {
      "cell_type": "code",
      "metadata": {
        "id": "3X_JWIJkAS0t",
        "colab_type": "code",
        "colab": {
          "base_uri": "https://localhost:8080/",
          "height": 324
        },
        "outputId": "e486d8f2-9656-4e78-ccd9-3642ffe0b24d"
      },
      "source": [
        "def predict(model, X_test):\n",
        "  y_preds = model.predict(X_test)\n",
        "\n",
        "  plt.scatter(y_test, y_preds)\n",
        "  plt.plot(y_test, y_test, color='red')\n",
        "  \n",
        "  print(\"Mean Absolute Error:\", mean_absolute_error(y_test, y_preds))\n",
        "  print(\"Mean Square Error:\", np.sqrt(mean_squared_error(y_test, y_preds)))\n",
        "\n",
        "\n",
        "predict(model, X_test)"
      ],
      "execution_count": 52,
      "outputs": [
        {
          "output_type": "stream",
          "text": [
            "Mean Absolute Error: 166004.09327267992\n",
            "Mean Square Error: 254506.01359512348\n"
          ],
          "name": "stdout"
        },
        {
          "output_type": "display_data",
          "data": {
            "image/png": "[encoded data removed]",
            "text/plain": [
              "<Figure size 432x288 with 1 Axes>"
            ]
          },
          "metadata": {
            "tags": [],
            "needs_background": "light"
          }
        }
      ]
    },
    {
      "cell_type": "markdown",
      "metadata": {
        "id": "qRLAz1AL-Ecr",
        "colab_type": "text"
      },
      "source": [
        "# Tune Keras Model"
      ]
    },
    {
      "cell_type": "code",
      "metadata": {
        "id": "6pnT3Bn35jIX",
        "colab_type": "code",
        "colab": {}
      },
      "source": [
        "def model_builder(hp):\n",
        "  model = keras.Sequential()\n",
        "  model.add(keras.layers.Flatten(input_shape=[len(X_train.keys())]))\n",
        "  \n",
        "  # Tune the number of units in the first Dense layer\n",
        "  hp_units = hp.Int('units', min_value = 32, max_value = 512, step = 32)\n",
        "  model.add(keras.layers.Dense(units = hp_units, activation = 'relu'))\n",
        "  model.add(keras.layers.Dense(1))\n",
        "\n",
        "  # Tune the learning rate for the optimizer \n",
        "  hp_learning_rate = hp.Choice('learning_rate', values = [1e-2, 1e-3, 1e-4]) \n",
        "  \n",
        "  model.compile(optimizer = keras.optimizers.RMSprop(learning_rate = hp_learning_rate),\n",
        "                loss = 'mse', \n",
        "                metrics = ['mse', 'mae'])\n",
        "  \n",
        "  return model"
      ],
      "execution_count": 53,
      "outputs": []
    },
    {
      "cell_type": "code",
      "metadata": {
        "id": "5sW8Jl0B56d1",
        "colab_type": "code",
        "colab": {
          "base_uri": "https://localhost:8080/",
          "height": 52
        },
        "outputId": "1ba9afcf-297f-4e10-e24c-f5df9fe4702c"
      },
      "source": [
        "tuner = kt.Hyperband(model_builder,\n",
        "                     objective = 'val_loss', \n",
        "                     max_epochs = 300,\n",
        "                     factor = 3)   "
      ],
      "execution_count": 54,
      "outputs": [
        {
          "output_type": "stream",
          "text": [
            "INFO:tensorflow:Reloading Oracle from existing project ./untitled_project/oracle.json\n",
            "INFO:tensorflow:Reloading Tuner from ./untitled_project/tuner0.json\n"
          ],
          "name": "stdout"
        }
      ]
    },
    {
      "cell_type": "code",
      "metadata": {
        "id": "sS4EE2eA5_cN",
        "colab_type": "code",
        "colab": {}
      },
      "source": [
        "class ClearTrainingOutput(tf.keras.callbacks.Callback):\n",
        "  def on_train_end(*args, **kwargs):\n",
        "    IPython.display.clear_output(wait = True)"
      ],
      "execution_count": 55,
      "outputs": []
    },
    {
      "cell_type": "code",
      "metadata": {
        "id": "foClYszG5_29",
        "colab_type": "code",
        "colab": {
          "base_uri": "https://localhost:8080/",
          "height": 121
        },
        "outputId": "2b478a1c-541c-45d2-f388-c0e284bbc752"
      },
      "source": [
        "tuner.search(X_train,y_train.values,validation_data=(X_test,y_test.values), epochs=100, callbacks = [ClearTrainingOutput()])\n",
        "\n",
        "# Get the optimal hyperparameters\n",
        "best_hps = tuner.get_best_hyperparameters(num_trials = 1)[0]\n",
        "\n",
        "print(f\"\"\"\n",
        "The hyperparameter search is complete. The optimal number of units in the first densely-connected\n",
        "layer is {best_hps.get('units')} and the optimal learning rate for the optimizer\n",
        "is {best_hps.get('learning_rate')}.\n",
        "\"\"\")"
      ],
      "execution_count": 56,
      "outputs": [
        {
          "output_type": "stream",
          "text": [
            "INFO:tensorflow:Oracle triggered exit\n",
            "\n",
            "The hyperparameter search is complete. The optimal number of units in the first densely-connected\n",
            "layer is 96 and the optimal learning rate for the optimizer\n",
            "is 0.01.\n",
            "\n"
          ],
          "name": "stdout"
        }
      ]
    },
    {
      "cell_type": "code",
      "metadata": {
        "id": "7F1XWe63D89E",
        "colab_type": "code",
        "colab": {}
      },
      "source": [
        "tuned_model = build_model(hidden_units=96, learning_rate=0.01)\n",
        "train_model(model=tuned_model, X_train=X_train, y_train=y_train, X_val=X_test, y_val=y_test, es=es)\n",
        "plot_history(tuned_model)\n",
        "predict(tuned_model, X_test)"
      ],
      "execution_count": null,
      "outputs": []
    }
  ]
}