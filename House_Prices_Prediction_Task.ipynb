{
  "nbformat": 4,
  "nbformat_minor": 0,
  "metadata": {
    "colab": {
      "name": "Copy of House Price Predictions.ipynb",
      "provenance": [],
      "collapsed_sections": [],
      "toc_visible": true,
      "authorship_tag": "ABX9TyNkKkc3iO/eXs1mAkqP78la",
      "include_colab_link": true
    },
    "kernelspec": {
      "name": "python3",
      "display_name": "Python 3"
    },
    "accelerator": "GPU"
  },
  "cells": [
    {
      "cell_type": "markdown",
      "metadata": {
        "id": "view-in-github",
        "colab_type": "text"
      },
      "source": [
        "<a href=\"https://colab.research.google.com/github/yordanovagabriela/neuralnetworks/blob/master/House_Prices_Prediction_Task.ipynb\" target=\"_parent\"><img src=\"https://colab.research.google.com/assets/colab-badge.svg\" alt=\"Open In Colab\"/></a>"
      ]
    },
    {
      "cell_type": "markdown",
      "metadata": {
        "id": "v-VN8FrXJ_ji",
        "colab_type": "text"
      },
      "source": [
        "# Import Libraries"
      ]
    },
    {
      "cell_type": "code",
      "metadata": {
        "id": "ili59nUGLs88",
        "colab_type": "code",
        "colab": {
          "base_uri": "https://localhost:8080/",
          "height": 34
        },
        "outputId": "987c5e72-5664-438d-ff52-948c3997a07b"
      },
      "source": [
        "import random\n",
        "import pandas as pd\n",
        "import numpy as np\n",
        "import matplotlib.pyplot as plt\n",
        "\n",
        "import tensorflow as tf\n",
        "\n",
        "from tensorflow import keras\n",
        "from tensorflow.keras import layers\n",
        "\n",
        "from sklearn.preprocessing import MinMaxScaler\n",
        "from sklearn.model_selection import train_test_split\n",
        "from sklearn.metrics import mean_absolute_error, mean_squared_error\n",
        "\n",
        "print(tf.__version__)"
      ],
      "execution_count": 1,
      "outputs": [
        {
          "output_type": "stream",
          "text": [
            "2.2.0\n"
          ],
          "name": "stdout"
        }
      ]
    },
    {
      "cell_type": "markdown",
      "metadata": {
        "id": "NTP7rPJOKHKk",
        "colab_type": "text"
      },
      "source": [
        "# Load Dataset"
      ]
    },
    {
      "cell_type": "code",
      "metadata": {
        "id": "fAmWwfvXKIvf",
        "colab_type": "code",
        "colab": {
          "base_uri": "https://localhost:8080/",
          "height": 218
        },
        "outputId": "127377e9-8df1-4e68-9c21-f57137cfbe3a"
      },
      "source": [
        "dataset = pd.read_csv(\"./kc_house_data.csv\")\n",
        "dataset.head(5)"
      ],
      "execution_count": 2,
      "outputs": [
        {
          "output_type": "execute_result",
          "data": {
            "text/html": [
              "<div>\n",
              "<style scoped>\n",
              "    .dataframe tbody tr th:only-of-type {\n",
              "        vertical-align: middle;\n",
              "    }\n",
              "\n",
              "    .dataframe tbody tr th {\n",
              "        vertical-align: top;\n",
              "    }\n",
              "\n",
              "    .dataframe thead th {\n",
              "        text-align: right;\n",
              "    }\n",
              "</style>\n",
              "<table border=\"1\" class=\"dataframe\">\n",
              "  <thead>\n",
              "    <tr style=\"text-align: right;\">\n",
              "      <th></th>\n",
              "      <th>id</th>\n",
              "      <th>date</th>\n",
              "      <th>price</th>\n",
              "      <th>bedrooms</th>\n",
              "      <th>bathrooms</th>\n",
              "      <th>sqft_living</th>\n",
              "      <th>sqft_lot</th>\n",
              "      <th>floors</th>\n",
              "      <th>waterfront</th>\n",
              "      <th>view</th>\n",
              "      <th>condition</th>\n",
              "      <th>grade</th>\n",
              "      <th>sqft_above</th>\n",
              "      <th>sqft_basement</th>\n",
              "      <th>yr_built</th>\n",
              "      <th>yr_renovated</th>\n",
              "      <th>zipcode</th>\n",
              "      <th>lat</th>\n",
              "      <th>long</th>\n",
              "      <th>sqft_living15</th>\n",
              "      <th>sqft_lot15</th>\n",
              "    </tr>\n",
              "  </thead>\n",
              "  <tbody>\n",
              "    <tr>\n",
              "      <th>0</th>\n",
              "      <td>7129300520</td>\n",
              "      <td>20141013T000000</td>\n",
              "      <td>221900.0</td>\n",
              "      <td>3</td>\n",
              "      <td>1.00</td>\n",
              "      <td>1180</td>\n",
              "      <td>5650</td>\n",
              "      <td>1.0</td>\n",
              "      <td>0</td>\n",
              "      <td>0</td>\n",
              "      <td>3</td>\n",
              "      <td>7</td>\n",
              "      <td>1180</td>\n",
              "      <td>0</td>\n",
              "      <td>1955</td>\n",
              "      <td>0</td>\n",
              "      <td>98178</td>\n",
              "      <td>47.5112</td>\n",
              "      <td>-122.257</td>\n",
              "      <td>1340</td>\n",
              "      <td>5650</td>\n",
              "    </tr>\n",
              "    <tr>\n",
              "      <th>1</th>\n",
              "      <td>6414100192</td>\n",
              "      <td>20141209T000000</td>\n",
              "      <td>538000.0</td>\n",
              "      <td>3</td>\n",
              "      <td>2.25</td>\n",
              "      <td>2570</td>\n",
              "      <td>7242</td>\n",
              "      <td>2.0</td>\n",
              "      <td>0</td>\n",
              "      <td>0</td>\n",
              "      <td>3</td>\n",
              "      <td>7</td>\n",
              "      <td>2170</td>\n",
              "      <td>400</td>\n",
              "      <td>1951</td>\n",
              "      <td>1991</td>\n",
              "      <td>98125</td>\n",
              "      <td>47.7210</td>\n",
              "      <td>-122.319</td>\n",
              "      <td>1690</td>\n",
              "      <td>7639</td>\n",
              "    </tr>\n",
              "    <tr>\n",
              "      <th>2</th>\n",
              "      <td>5631500400</td>\n",
              "      <td>20150225T000000</td>\n",
              "      <td>180000.0</td>\n",
              "      <td>2</td>\n",
              "      <td>1.00</td>\n",
              "      <td>770</td>\n",
              "      <td>10000</td>\n",
              "      <td>1.0</td>\n",
              "      <td>0</td>\n",
              "      <td>0</td>\n",
              "      <td>3</td>\n",
              "      <td>6</td>\n",
              "      <td>770</td>\n",
              "      <td>0</td>\n",
              "      <td>1933</td>\n",
              "      <td>0</td>\n",
              "      <td>98028</td>\n",
              "      <td>47.7379</td>\n",
              "      <td>-122.233</td>\n",
              "      <td>2720</td>\n",
              "      <td>8062</td>\n",
              "    </tr>\n",
              "    <tr>\n",
              "      <th>3</th>\n",
              "      <td>2487200875</td>\n",
              "      <td>20141209T000000</td>\n",
              "      <td>604000.0</td>\n",
              "      <td>4</td>\n",
              "      <td>3.00</td>\n",
              "      <td>1960</td>\n",
              "      <td>5000</td>\n",
              "      <td>1.0</td>\n",
              "      <td>0</td>\n",
              "      <td>0</td>\n",
              "      <td>5</td>\n",
              "      <td>7</td>\n",
              "      <td>1050</td>\n",
              "      <td>910</td>\n",
              "      <td>1965</td>\n",
              "      <td>0</td>\n",
              "      <td>98136</td>\n",
              "      <td>47.5208</td>\n",
              "      <td>-122.393</td>\n",
              "      <td>1360</td>\n",
              "      <td>5000</td>\n",
              "    </tr>\n",
              "    <tr>\n",
              "      <th>4</th>\n",
              "      <td>1954400510</td>\n",
              "      <td>20150218T000000</td>\n",
              "      <td>510000.0</td>\n",
              "      <td>3</td>\n",
              "      <td>2.00</td>\n",
              "      <td>1680</td>\n",
              "      <td>8080</td>\n",
              "      <td>1.0</td>\n",
              "      <td>0</td>\n",
              "      <td>0</td>\n",
              "      <td>3</td>\n",
              "      <td>8</td>\n",
              "      <td>1680</td>\n",
              "      <td>0</td>\n",
              "      <td>1987</td>\n",
              "      <td>0</td>\n",
              "      <td>98074</td>\n",
              "      <td>47.6168</td>\n",
              "      <td>-122.045</td>\n",
              "      <td>1800</td>\n",
              "      <td>7503</td>\n",
              "    </tr>\n",
              "  </tbody>\n",
              "</table>\n",
              "</div>"
            ],
            "text/plain": [
              "           id             date     price  ...     long  sqft_living15  sqft_lot15\n",
              "0  7129300520  20141013T000000  221900.0  ... -122.257           1340        5650\n",
              "1  6414100192  20141209T000000  538000.0  ... -122.319           1690        7639\n",
              "2  5631500400  20150225T000000  180000.0  ... -122.233           2720        8062\n",
              "3  2487200875  20141209T000000  604000.0  ... -122.393           1360        5000\n",
              "4  1954400510  20150218T000000  510000.0  ... -122.045           1800        7503\n",
              "\n",
              "[5 rows x 21 columns]"
            ]
          },
          "metadata": {
            "tags": []
          },
          "execution_count": 2
        }
      ]
    },
    {
      "cell_type": "markdown",
      "metadata": {
        "id": "-ieQwXEpKErG",
        "colab_type": "text"
      },
      "source": [
        "# Preprocess Data"
      ]
    },
    {
      "cell_type": "markdown",
      "metadata": {
        "id": "exE0Do0mqJQK",
        "colab_type": "text"
      },
      "source": [
        "## Cleanup columns"
      ]
    },
    {
      "cell_type": "code",
      "metadata": {
        "id": "xTWNIacXqMYn",
        "colab_type": "code",
        "colab": {}
      },
      "source": [
        "del dataset['id']\n",
        "del dataset['date']\n",
        "del dataset['zipcode']"
      ],
      "execution_count": 3,
      "outputs": []
    },
    {
      "cell_type": "markdown",
      "metadata": {
        "id": "Ihs-8pz9Kr3-",
        "colab_type": "text"
      },
      "source": [
        "## Check For Unknown Values \n"
      ]
    },
    {
      "cell_type": "code",
      "metadata": {
        "id": "31fMfL2wKGgg",
        "colab_type": "code",
        "colab": {
          "base_uri": "https://localhost:8080/",
          "height": 345
        },
        "outputId": "2dbb0926-3dc2-4640-9969-557470813e13"
      },
      "source": [
        "dataset.isna().sum()"
      ],
      "execution_count": 4,
      "outputs": [
        {
          "output_type": "execute_result",
          "data": {
            "text/plain": [
              "price            0\n",
              "bedrooms         0\n",
              "bathrooms        0\n",
              "sqft_living      0\n",
              "sqft_lot         0\n",
              "floors           0\n",
              "waterfront       0\n",
              "view             0\n",
              "condition        0\n",
              "grade            0\n",
              "sqft_above       0\n",
              "sqft_basement    0\n",
              "yr_built         0\n",
              "yr_renovated     0\n",
              "lat              0\n",
              "long             0\n",
              "sqft_living15    0\n",
              "sqft_lot15       0\n",
              "dtype: int64"
            ]
          },
          "metadata": {
            "tags": []
          },
          "execution_count": 4
        }
      ]
    },
    {
      "cell_type": "markdown",
      "metadata": {
        "id": "FEUocKBFBaS5",
        "colab_type": "text"
      },
      "source": [
        "## Drop Duplicate Values"
      ]
    },
    {
      "cell_type": "code",
      "metadata": {
        "id": "mkhl6X34A2Ht",
        "colab_type": "code",
        "colab": {}
      },
      "source": [
        "dataset.drop_duplicates(keep = False, inplace = True)"
      ],
      "execution_count": 5,
      "outputs": []
    },
    {
      "cell_type": "markdown",
      "metadata": {
        "id": "xlYnNxE_McuX",
        "colab_type": "text"
      },
      "source": [
        "## Split features from labels"
      ]
    },
    {
      "cell_type": "code",
      "metadata": {
        "id": "So8AE8EXMTNW",
        "colab_type": "code",
        "colab": {}
      },
      "source": [
        "X = dataset.drop('price',axis=1)\n",
        "y = dataset['price']"
      ],
      "execution_count": 6,
      "outputs": []
    },
    {
      "cell_type": "markdown",
      "metadata": {
        "id": "irALBWRWqUDP",
        "colab_type": "text"
      },
      "source": [
        "## Normalize the data"
      ]
    },
    {
      "cell_type": "code",
      "metadata": {
        "id": "H1KxepcyTsnH",
        "colab_type": "code",
        "colab": {}
      },
      "source": [
        "scaler = MinMaxScaler()\n",
        "scaled_x = scaler.fit_transform(X)"
      ],
      "execution_count": 7,
      "outputs": []
    },
    {
      "cell_type": "markdown",
      "metadata": {
        "id": "GNkAtcNErPOa",
        "colab_type": "text"
      },
      "source": [
        "## Split data into train, validation and test"
      ]
    },
    {
      "cell_type": "code",
      "metadata": {
        "id": "sdU_GMAwT-2I",
        "colab_type": "code",
        "colab": {}
      },
      "source": [
        "X_train, X_test, y_train, y_test = train_test_split(X, y, test_size=0.2)\n",
        "X_train, X_val, y_train, y_val = train_test_split(X_train, y_train, test_size=0.25)"
      ],
      "execution_count": 8,
      "outputs": []
    },
    {
      "cell_type": "code",
      "metadata": {
        "id": "8aGOTSFhUF97",
        "colab_type": "code",
        "colab": {
          "base_uri": "https://localhost:8080/",
          "height": 69
        },
        "outputId": "1dd3fde9-23a8-489c-83d8-cfb8a268b002"
      },
      "source": [
        "print(\"Train set size:\", X_train.shape[0])\n",
        "print(\"Validation set size:\", X_val.shape[0])\n",
        "print(\"Test set size:\", X_test.shape[0])"
      ],
      "execution_count": 9,
      "outputs": [
        {
          "output_type": "stream",
          "text": [
            "Train set size: 12961\n",
            "Validation set size: 4321\n",
            "Test set size: 4321\n"
          ],
          "name": "stdout"
        }
      ]
    },
    {
      "cell_type": "markdown",
      "metadata": {
        "id": "hoPCJUMtOfsB",
        "colab_type": "text"
      },
      "source": [
        "# Build Model"
      ]
    },
    {
      "cell_type": "code",
      "metadata": {
        "id": "-0EjEzJTNQ5z",
        "colab_type": "code",
        "colab": {}
      },
      "source": [
        "model = keras.Sequential([\n",
        "  layers.Flatten(input_shape=[len(X_train.keys())]),\n",
        "  layers.Dense(64, activation='relu'),\n",
        "  layers.Dropout(0.2),\n",
        "  layers.Dense(64, activation='relu'),\n",
        "  layers.Dense(1)\n",
        "])\n",
        "\n",
        "optimizer = tf.keras.optimizers.RMSprop(0.001)\n",
        "\n",
        "model.compile(loss='mean_squared_logarithmic_error', optimizer=optimizer, metrics=['mae', 'mse'])"
      ],
      "execution_count": 10,
      "outputs": []
    },
    {
      "cell_type": "markdown",
      "metadata": {
        "id": "Nqm9vqxJu8DR",
        "colab_type": "text"
      },
      "source": [
        "# Train Model"
      ]
    },
    {
      "cell_type": "code",
      "metadata": {
        "id": "EXdKpoePO3j3",
        "colab_type": "code",
        "colab": {
          "base_uri": "https://localhost:8080/",
          "height": 1000
        },
        "outputId": "9426088d-4347-4487-8a71-e92dd76c29bd"
      },
      "source": [
        "es = keras.callbacks.EarlyStopping(monitor='val_loss', mode='min', verbose=1, patience=10, restore_best_weights=True)\n",
        "\n",
        "model.fit(X_train,y_train.values,validation_data=(X_val, y_val.values), batch_size=64, epochs=100, callbacks=[es])\n",
        "# model.save(\"pred_model\")"
      ],
      "execution_count": 11,
      "outputs": [
        {
          "output_type": "stream",
          "text": [
            "Epoch 1/100\n",
            "203/203 [==============================] - 1s 6ms/step - loss: 9.4110 - mae: 478531.3750 - mse: 446506598400.0000 - val_loss: 0.8793 - val_mae: 381816.5625 - val_mse: 523031674880.0000\n",
            "Epoch 2/100\n",
            "203/203 [==============================] - 1s 5ms/step - loss: 0.4979 - mae: 365017.9062 - mse: 921622544384.0000 - val_loss: 0.2742 - val_mae: 244872.6562 - val_mse: 225967112192.0000\n",
            "Epoch 3/100\n",
            "203/203 [==============================] - 1s 5ms/step - loss: 0.2071 - mae: 197440.9375 - mse: 130563981312.0000 - val_loss: 0.1479 - val_mae: 167276.0625 - val_mse: 82668158976.0000\n",
            "Epoch 4/100\n",
            "203/203 [==============================] - 1s 5ms/step - loss: 0.1752 - mae: 177198.6875 - mse: 90787422208.0000 - val_loss: 0.1431 - val_mae: 164007.8906 - val_mse: 78441226240.0000\n",
            "Epoch 5/100\n",
            "203/203 [==============================] - 1s 5ms/step - loss: 0.1671 - mae: 172857.2031 - mse: 85901803520.0000 - val_loss: 0.1367 - val_mae: 161190.7344 - val_mse: 77870645248.0000\n",
            "Epoch 6/100\n",
            "203/203 [==============================] - 1s 5ms/step - loss: 0.1504 - mae: 170685.3750 - mse: 83398459392.0000 - val_loss: 0.1374 - val_mae: 160103.3750 - val_mse: 74410270720.0000\n",
            "Epoch 7/100\n",
            "203/203 [==============================] - 1s 5ms/step - loss: 0.1478 - mae: 169425.7969 - mse: 82916065280.0000 - val_loss: 0.1341 - val_mae: 158070.5000 - val_mse: 73180856320.0000\n",
            "Epoch 8/100\n",
            "203/203 [==============================] - 1s 5ms/step - loss: 0.1466 - mae: 167959.8281 - mse: 79875391488.0000 - val_loss: 0.1341 - val_mae: 157984.9688 - val_mse: 72512987136.0000\n",
            "Epoch 9/100\n",
            "203/203 [==============================] - 1s 5ms/step - loss: 0.1454 - mae: 167067.9844 - mse: 79363932160.0000 - val_loss: 0.1325 - val_mae: 157602.7031 - val_mse: 73099493376.0000\n",
            "Epoch 10/100\n",
            "203/203 [==============================] - 1s 5ms/step - loss: 0.1443 - mae: 166640.9531 - mse: 78737465344.0000 - val_loss: 0.1315 - val_mae: 156609.3281 - val_mse: 72167776256.0000\n",
            "Epoch 11/100\n",
            "203/203 [==============================] - 1s 5ms/step - loss: 0.1437 - mae: 165942.9219 - mse: 78909800448.0000 - val_loss: 0.1312 - val_mae: 156576.2812 - val_mse: 72441651200.0000\n",
            "Epoch 12/100\n",
            "203/203 [==============================] - 1s 5ms/step - loss: 0.1426 - mae: 165379.7031 - mse: 77626105856.0000 - val_loss: 0.1309 - val_mae: 156451.7188 - val_mse: 72349990912.0000\n",
            "Epoch 13/100\n",
            "203/203 [==============================] - 1s 5ms/step - loss: 0.1422 - mae: 165152.6562 - mse: 77709361152.0000 - val_loss: 0.1316 - val_mae: 156203.2812 - val_mse: 70699278336.0000\n",
            "Epoch 14/100\n",
            "203/203 [==============================] - 1s 5ms/step - loss: 0.1409 - mae: 164383.4219 - mse: 77559422976.0000 - val_loss: 0.1316 - val_mae: 156057.4375 - val_mse: 70146596864.0000\n",
            "Epoch 15/100\n",
            "203/203 [==============================] - 1s 5ms/step - loss: 0.1409 - mae: 163972.7031 - mse: 76783132672.0000 - val_loss: 0.1307 - val_mae: 155721.3281 - val_mse: 70332817408.0000\n",
            "Epoch 16/100\n",
            "203/203 [==============================] - 1s 5ms/step - loss: 0.1406 - mae: 164259.2812 - mse: 76845531136.0000 - val_loss: 0.1311 - val_mae: 157092.9375 - val_mse: 74187776000.0000\n",
            "Epoch 17/100\n",
            "203/203 [==============================] - 1s 6ms/step - loss: 0.1403 - mae: 163517.6250 - mse: 76692496384.0000 - val_loss: 0.1297 - val_mae: 155462.8594 - val_mse: 71027916800.0000\n",
            "Epoch 18/100\n",
            "203/203 [==============================] - 1s 5ms/step - loss: 0.1411 - mae: 164583.7812 - mse: 77122322432.0000 - val_loss: 0.1302 - val_mae: 155319.1094 - val_mse: 69947408384.0000\n",
            "Epoch 19/100\n",
            "203/203 [==============================] - 1s 5ms/step - loss: 0.1388 - mae: 162933.4688 - mse: 75706458112.0000 - val_loss: 0.1304 - val_mae: 155381.0000 - val_mse: 69741510656.0000\n",
            "Epoch 20/100\n",
            "203/203 [==============================] - 1s 5ms/step - loss: 0.1394 - mae: 163210.4219 - mse: 75336892416.0000 - val_loss: 0.1289 - val_mae: 155095.9844 - val_mse: 71291944960.0000\n",
            "Epoch 21/100\n",
            "203/203 [==============================] - 1s 5ms/step - loss: 0.1389 - mae: 163063.0625 - mse: 76199051264.0000 - val_loss: 0.1307 - val_mae: 155922.8438 - val_mse: 70370664448.0000\n",
            "Epoch 22/100\n",
            "203/203 [==============================] - 1s 6ms/step - loss: 0.1384 - mae: 162572.1406 - mse: 75302412288.0000 - val_loss: 0.1288 - val_mae: 155370.0156 - val_mse: 72041996288.0000\n",
            "Epoch 23/100\n",
            "203/203 [==============================] - 1s 5ms/step - loss: 0.1378 - mae: 162254.4844 - mse: 75565891584.0000 - val_loss: 0.1283 - val_mae: 154481.9062 - val_mse: 70323871744.0000\n",
            "Epoch 24/100\n",
            "203/203 [==============================] - 1s 5ms/step - loss: 0.1376 - mae: 162283.0625 - mse: 75619147776.0000 - val_loss: 0.1292 - val_mae: 156026.6719 - val_mse: 73310765056.0000\n",
            "Epoch 25/100\n",
            "203/203 [==============================] - 1s 5ms/step - loss: 0.1378 - mae: 162297.9688 - mse: 75471282176.0000 - val_loss: 0.1282 - val_mae: 154646.3750 - val_mse: 70676660224.0000\n",
            "Epoch 26/100\n",
            "203/203 [==============================] - 1s 5ms/step - loss: 0.1374 - mae: 161815.4844 - mse: 75491524608.0000 - val_loss: 0.1276 - val_mae: 154037.6250 - val_mse: 69756870656.0000\n",
            "Epoch 27/100\n",
            "203/203 [==============================] - 1s 5ms/step - loss: 0.1360 - mae: 161373.8438 - mse: 74948263936.0000 - val_loss: 0.1273 - val_mae: 153807.6719 - val_mse: 69356707840.0000\n",
            "Epoch 28/100\n",
            "203/203 [==============================] - 1s 5ms/step - loss: 0.1359 - mae: 160993.1875 - mse: 73932374016.0000 - val_loss: 0.1270 - val_mae: 154333.8906 - val_mse: 71240318976.0000\n",
            "Epoch 29/100\n",
            "203/203 [==============================] - 1s 5ms/step - loss: 0.1365 - mae: 161358.6875 - mse: 74289635328.0000 - val_loss: 0.1291 - val_mae: 154347.1406 - val_mse: 68101357568.0000\n",
            "Epoch 30/100\n",
            "203/203 [==============================] - 1s 6ms/step - loss: 0.1364 - mae: 161294.4531 - mse: 74457071616.0000 - val_loss: 0.1313 - val_mae: 155340.3906 - val_mse: 67419590656.0000\n",
            "Epoch 31/100\n",
            "203/203 [==============================] - 1s 6ms/step - loss: 0.1353 - mae: 160856.3594 - mse: 73780797440.0000 - val_loss: 0.1268 - val_mae: 154404.9688 - val_mse: 71666376704.0000\n",
            "Epoch 32/100\n",
            "203/203 [==============================] - 1s 6ms/step - loss: 0.1349 - mae: 160833.4844 - mse: 74345988096.0000 - val_loss: 0.1253 - val_mae: 153205.0625 - val_mse: 69716713472.0000\n",
            "Epoch 33/100\n",
            "203/203 [==============================] - 1s 6ms/step - loss: 0.1351 - mae: 160772.1875 - mse: 72843001856.0000 - val_loss: 0.1249 - val_mae: 152796.1406 - val_mse: 69127643136.0000\n",
            "Epoch 34/100\n",
            "203/203 [==============================] - 1s 5ms/step - loss: 0.1345 - mae: 160076.8594 - mse: 73051004928.0000 - val_loss: 0.1261 - val_mae: 153948.1875 - val_mse: 70595280896.0000\n",
            "Epoch 35/100\n",
            "203/203 [==============================] - 1s 5ms/step - loss: 0.1344 - mae: 159665.3125 - mse: 73261031424.0000 - val_loss: 0.1243 - val_mae: 152540.7344 - val_mse: 69006417920.0000\n",
            "Epoch 36/100\n",
            "203/203 [==============================] - 1s 5ms/step - loss: 0.1334 - mae: 159165.7969 - mse: 71839784960.0000 - val_loss: 0.1245 - val_mae: 152452.1562 - val_mse: 68217540608.0000\n",
            "Epoch 37/100\n",
            "203/203 [==============================] - 1s 5ms/step - loss: 0.1336 - mae: 159721.5000 - mse: 72038875136.0000 - val_loss: 0.1235 - val_mae: 152022.7969 - val_mse: 68330823680.0000\n",
            "Epoch 38/100\n",
            "203/203 [==============================] - 1s 5ms/step - loss: 0.1322 - mae: 158665.9062 - mse: 71347281920.0000 - val_loss: 0.1234 - val_mae: 152046.5000 - val_mse: 68272832512.0000\n",
            "Epoch 39/100\n",
            "203/203 [==============================] - 1s 5ms/step - loss: 0.1330 - mae: 158889.3750 - mse: 71288856576.0000 - val_loss: 0.1230 - val_mae: 151531.9531 - val_mse: 67112824832.0000\n",
            "Epoch 40/100\n",
            "203/203 [==============================] - 1s 5ms/step - loss: 0.1321 - mae: 158671.5312 - mse: 71024156672.0000 - val_loss: 0.1240 - val_mae: 152131.7656 - val_mse: 66799783936.0000\n",
            "Epoch 41/100\n",
            "203/203 [==============================] - 1s 5ms/step - loss: 0.1320 - mae: 158548.0469 - mse: 70684737536.0000 - val_loss: 0.1220 - val_mae: 150927.0781 - val_mse: 66766151680.0000\n",
            "Epoch 42/100\n",
            "203/203 [==============================] - 1s 5ms/step - loss: 0.1316 - mae: 158067.5938 - mse: 70284836864.0000 - val_loss: 0.1221 - val_mae: 151245.1719 - val_mse: 67198988288.0000\n",
            "Epoch 43/100\n",
            "203/203 [==============================] - 1s 5ms/step - loss: 0.1309 - mae: 157469.8906 - mse: 69023875072.0000 - val_loss: 0.1223 - val_mae: 150631.3281 - val_mse: 65064390656.0000\n",
            "Epoch 44/100\n",
            "203/203 [==============================] - 1s 5ms/step - loss: 0.1309 - mae: 157453.8281 - mse: 69462335488.0000 - val_loss: 0.1215 - val_mae: 150490.9844 - val_mse: 65441718272.0000\n",
            "Epoch 45/100\n",
            "203/203 [==============================] - 1s 5ms/step - loss: 0.1306 - mae: 157819.8125 - mse: 69122334720.0000 - val_loss: 0.1219 - val_mae: 151035.7344 - val_mse: 66430156800.0000\n",
            "Epoch 46/100\n",
            "203/203 [==============================] - 1s 5ms/step - loss: 0.1313 - mae: 158052.8594 - mse: 69661794304.0000 - val_loss: 0.1213 - val_mae: 150713.3750 - val_mse: 66058952704.0000\n",
            "Epoch 47/100\n",
            "203/203 [==============================] - 1s 5ms/step - loss: 0.1306 - mae: 157065.5312 - mse: 68764336128.0000 - val_loss: 0.1209 - val_mae: 150425.1719 - val_mse: 65977999360.0000\n",
            "Epoch 48/100\n",
            "203/203 [==============================] - 1s 6ms/step - loss: 0.1301 - mae: 156656.6406 - mse: 68310687744.0000 - val_loss: 0.1230 - val_mae: 149701.5312 - val_mse: 62148173824.0000\n",
            "Epoch 49/100\n",
            "203/203 [==============================] - 1s 5ms/step - loss: 0.1301 - mae: 156844.4844 - mse: 67640750080.0000 - val_loss: 0.1210 - val_mae: 149807.8906 - val_mse: 63576723456.0000\n",
            "Epoch 50/100\n",
            "203/203 [==============================] - 1s 6ms/step - loss: 0.1299 - mae: 156822.1250 - mse: 68343328768.0000 - val_loss: 0.1200 - val_mae: 149372.8125 - val_mse: 63727341568.0000\n",
            "Epoch 51/100\n",
            "203/203 [==============================] - 1s 5ms/step - loss: 0.1291 - mae: 156161.7188 - mse: 67044896768.0000 - val_loss: 0.1205 - val_mae: 149344.0000 - val_mse: 62767210496.0000\n",
            "Epoch 52/100\n",
            "203/203 [==============================] - 1s 5ms/step - loss: 0.1295 - mae: 156573.6094 - mse: 66410774528.0000 - val_loss: 0.1197 - val_mae: 149120.3125 - val_mse: 63239856128.0000\n",
            "Epoch 53/100\n",
            "203/203 [==============================] - 1s 5ms/step - loss: 0.1287 - mae: 156230.1406 - mse: 66337148928.0000 - val_loss: 0.1199 - val_mae: 149607.7812 - val_mse: 64128081920.0000\n",
            "Epoch 54/100\n",
            "203/203 [==============================] - 1s 5ms/step - loss: 0.1287 - mae: 155792.0312 - mse: 65152888832.0000 - val_loss: 0.1194 - val_mae: 148826.6562 - val_mse: 62481113088.0000\n",
            "Epoch 55/100\n",
            "203/203 [==============================] - 1s 5ms/step - loss: 0.1281 - mae: 155715.8906 - mse: 65007722496.0000 - val_loss: 0.1198 - val_mae: 148988.8125 - val_mse: 62260011008.0000\n",
            "Epoch 56/100\n",
            "203/203 [==============================] - 1s 5ms/step - loss: 0.1279 - mae: 155463.6094 - mse: 64934674432.0000 - val_loss: 0.1211 - val_mae: 149064.2500 - val_mse: 60440657920.0000\n",
            "Epoch 57/100\n",
            "203/203 [==============================] - 1s 6ms/step - loss: 0.1281 - mae: 155621.2812 - mse: 65216131072.0000 - val_loss: 0.1191 - val_mae: 148848.3281 - val_mse: 62626213888.0000\n",
            "Epoch 58/100\n",
            "203/203 [==============================] - 1s 5ms/step - loss: 0.1279 - mae: 155395.2344 - mse: 64843644928.0000 - val_loss: 0.1186 - val_mae: 148217.3125 - val_mse: 61232185344.0000\n",
            "Epoch 59/100\n",
            "203/203 [==============================] - 1s 5ms/step - loss: 0.1280 - mae: 155625.8906 - mse: 64613203968.0000 - val_loss: 0.1187 - val_mae: 147987.9375 - val_mse: 60849799168.0000\n",
            "Epoch 60/100\n",
            "203/203 [==============================] - 1s 5ms/step - loss: 0.1275 - mae: 155345.5938 - mse: 64787968000.0000 - val_loss: 0.1198 - val_mae: 148685.7656 - val_mse: 60201484288.0000\n",
            "Epoch 61/100\n",
            "203/203 [==============================] - 1s 5ms/step - loss: 0.1276 - mae: 155321.7500 - mse: 64582291456.0000 - val_loss: 0.1184 - val_mae: 147888.6094 - val_mse: 59854356480.0000\n",
            "Epoch 62/100\n",
            "203/203 [==============================] - 1s 5ms/step - loss: 0.1287 - mae: 155555.1406 - mse: 63825059840.0000 - val_loss: 0.1179 - val_mae: 147848.7812 - val_mse: 60684718080.0000\n",
            "Epoch 63/100\n",
            "203/203 [==============================] - 1s 5ms/step - loss: 0.1271 - mae: 154998.6406 - mse: 63738638336.0000 - val_loss: 0.1179 - val_mae: 147707.6719 - val_mse: 59780440064.0000\n",
            "Epoch 64/100\n",
            "203/203 [==============================] - 1s 5ms/step - loss: 0.1283 - mae: 155172.8906 - mse: 63724216320.0000 - val_loss: 0.1183 - val_mae: 147798.3594 - val_mse: 58973073408.0000\n",
            "Epoch 65/100\n",
            "203/203 [==============================] - 1s 5ms/step - loss: 0.1281 - mae: 155333.5000 - mse: 63638179840.0000 - val_loss: 0.1177 - val_mae: 147681.7812 - val_mse: 59719892992.0000\n",
            "Epoch 66/100\n",
            "203/203 [==============================] - 1s 5ms/step - loss: 0.1264 - mae: 154807.3125 - mse: 63456276480.0000 - val_loss: 0.1187 - val_mae: 148378.7188 - val_mse: 59099308032.0000\n",
            "Epoch 67/100\n",
            "203/203 [==============================] - 1s 5ms/step - loss: 0.1264 - mae: 154592.5000 - mse: 62718857216.0000 - val_loss: 0.1179 - val_mae: 147521.5625 - val_mse: 58854301696.0000\n",
            "Epoch 68/100\n",
            "203/203 [==============================] - 1s 5ms/step - loss: 0.1271 - mae: 154287.1719 - mse: 62522576896.0000 - val_loss: 0.1202 - val_mae: 149516.4219 - val_mse: 59680546816.0000\n",
            "Epoch 69/100\n",
            "203/203 [==============================] - 1s 5ms/step - loss: 0.1256 - mae: 153682.3125 - mse: 61338038272.0000 - val_loss: 0.1170 - val_mae: 147192.4688 - val_mse: 59433619456.0000\n",
            "Epoch 70/100\n",
            "203/203 [==============================] - 1s 5ms/step - loss: 0.1263 - mae: 154218.9375 - mse: 62531686400.0000 - val_loss: 0.1177 - val_mae: 147867.8750 - val_mse: 59909197824.0000\n",
            "Epoch 71/100\n",
            "203/203 [==============================] - 1s 5ms/step - loss: 0.1270 - mae: 154537.6094 - mse: 62337093632.0000 - val_loss: 0.1174 - val_mae: 147213.1719 - val_mse: 58475544576.0000\n",
            "Epoch 72/100\n",
            "203/203 [==============================] - 1s 5ms/step - loss: 0.1254 - mae: 153799.2969 - mse: 61322522624.0000 - val_loss: 0.1178 - val_mae: 147562.5156 - val_mse: 58313551872.0000\n",
            "Epoch 73/100\n",
            "203/203 [==============================] - 1s 5ms/step - loss: 0.1256 - mae: 153960.2344 - mse: 62754549760.0000 - val_loss: 0.1172 - val_mae: 147611.2656 - val_mse: 59104034816.0000\n",
            "Epoch 74/100\n",
            "203/203 [==============================] - 1s 6ms/step - loss: 0.1267 - mae: 154067.6719 - mse: 62330449920.0000 - val_loss: 0.1171 - val_mae: 147394.0000 - val_mse: 58343378944.0000\n",
            "Epoch 75/100\n",
            "203/203 [==============================] - 1s 5ms/step - loss: 0.1258 - mae: 153798.3281 - mse: 62356561920.0000 - val_loss: 0.1186 - val_mae: 147815.9531 - val_mse: 57436966912.0000\n",
            "Epoch 76/100\n",
            "203/203 [==============================] - 1s 5ms/step - loss: 0.1267 - mae: 153879.2812 - mse: 61260484608.0000 - val_loss: 0.1179 - val_mae: 147270.4844 - val_mse: 57081806848.0000\n",
            "Epoch 77/100\n",
            "203/203 [==============================] - 1s 5ms/step - loss: 0.1249 - mae: 153606.9688 - mse: 60935843840.0000 - val_loss: 0.1167 - val_mae: 147310.2031 - val_mse: 58146160640.0000\n",
            "Epoch 78/100\n",
            "203/203 [==============================] - 1s 5ms/step - loss: 0.1255 - mae: 154019.3594 - mse: 61618860032.0000 - val_loss: 0.1168 - val_mae: 147491.8594 - val_mse: 59210129408.0000\n",
            "Epoch 79/100\n",
            "203/203 [==============================] - 1s 6ms/step - loss: 0.1251 - mae: 153769.5469 - mse: 61423255552.0000 - val_loss: 0.1171 - val_mae: 147183.8125 - val_mse: 58280857600.0000\n",
            "Epoch 80/100\n",
            "203/203 [==============================] - 1s 5ms/step - loss: 0.1252 - mae: 153765.3438 - mse: 61139984384.0000 - val_loss: 0.1194 - val_mae: 149087.5938 - val_mse: 56837779456.0000\n",
            "Epoch 81/100\n",
            "203/203 [==============================] - 1s 6ms/step - loss: 0.1257 - mae: 153755.0781 - mse: 60741992448.0000 - val_loss: 0.1169 - val_mae: 147514.1562 - val_mse: 58097618944.0000\n",
            "Epoch 82/100\n",
            "203/203 [==============================] - 1s 5ms/step - loss: 0.1259 - mae: 153754.8906 - mse: 61168214016.0000 - val_loss: 0.1166 - val_mae: 147385.9844 - val_mse: 59181957120.0000\n",
            "Epoch 83/100\n",
            "203/203 [==============================] - 1s 5ms/step - loss: 0.1261 - mae: 154171.9688 - mse: 61868584960.0000 - val_loss: 0.1159 - val_mae: 146709.4688 - val_mse: 58911817728.0000\n",
            "Epoch 84/100\n",
            "203/203 [==============================] - 1s 5ms/step - loss: 0.1246 - mae: 153183.1406 - mse: 61354622976.0000 - val_loss: 0.1163 - val_mae: 146717.0625 - val_mse: 56506900480.0000\n",
            "Epoch 85/100\n",
            "203/203 [==============================] - 1s 6ms/step - loss: 0.1261 - mae: 154148.2344 - mse: 60975742976.0000 - val_loss: 0.1160 - val_mae: 146644.8906 - val_mse: 57213325312.0000\n",
            "Epoch 86/100\n",
            "203/203 [==============================] - 1s 5ms/step - loss: 0.1251 - mae: 153081.7031 - mse: 60080623616.0000 - val_loss: 0.1195 - val_mae: 148955.7344 - val_mse: 60128104448.0000\n",
            "Epoch 87/100\n",
            "203/203 [==============================] - 1s 6ms/step - loss: 0.1247 - mae: 153463.8281 - mse: 60387848192.0000 - val_loss: 0.1161 - val_mae: 146462.7656 - val_mse: 56751312896.0000\n",
            "Epoch 88/100\n",
            "203/203 [==============================] - 1s 6ms/step - loss: 0.1253 - mae: 153409.7188 - mse: 60911726592.0000 - val_loss: 0.1168 - val_mae: 146660.7812 - val_mse: 56190324736.0000\n",
            "Epoch 89/100\n",
            "203/203 [==============================] - 1s 5ms/step - loss: 0.1257 - mae: 153825.0000 - mse: 60378877952.0000 - val_loss: 0.1162 - val_mae: 146185.7031 - val_mse: 55908655104.0000\n",
            "Epoch 90/100\n",
            "203/203 [==============================] - 1s 5ms/step - loss: 0.1239 - mae: 152842.7188 - mse: 60479606784.0000 - val_loss: 0.1162 - val_mae: 147052.9375 - val_mse: 57454481408.0000\n",
            "Epoch 91/100\n",
            "203/203 [==============================] - 1s 6ms/step - loss: 0.1256 - mae: 153406.2031 - mse: 60914925568.0000 - val_loss: 0.1175 - val_mae: 148261.8906 - val_mse: 60171268096.0000\n",
            "Epoch 92/100\n",
            "203/203 [==============================] - 1s 5ms/step - loss: 0.1246 - mae: 153048.7656 - mse: 60138614784.0000 - val_loss: 0.1150 - val_mae: 145905.3594 - val_mse: 56950001664.0000\n",
            "Epoch 93/100\n",
            "203/203 [==============================] - 1s 5ms/step - loss: 0.1245 - mae: 153132.9688 - mse: 61491773440.0000 - val_loss: 0.1157 - val_mae: 146726.2656 - val_mse: 57959731200.0000\n",
            "Epoch 94/100\n",
            "203/203 [==============================] - 1s 6ms/step - loss: 0.1238 - mae: 152604.2656 - mse: 60652793856.0000 - val_loss: 0.1155 - val_mae: 145939.9062 - val_mse: 56423432192.0000\n",
            "Epoch 95/100\n",
            "203/203 [==============================] - 1s 6ms/step - loss: 0.1242 - mae: 152548.7500 - mse: 59800846336.0000 - val_loss: 0.1154 - val_mae: 146271.7188 - val_mse: 57821970432.0000\n",
            "Epoch 96/100\n",
            "203/203 [==============================] - 1s 6ms/step - loss: 0.1244 - mae: 152338.7500 - mse: 59972169728.0000 - val_loss: 0.1153 - val_mae: 145863.0156 - val_mse: 55870001152.0000\n",
            "Epoch 97/100\n",
            "203/203 [==============================] - 1s 5ms/step - loss: 0.1232 - mae: 152271.5000 - mse: 59267411968.0000 - val_loss: 0.1155 - val_mae: 145703.9531 - val_mse: 55781801984.0000\n",
            "Epoch 98/100\n",
            "203/203 [==============================] - 1s 5ms/step - loss: 0.1244 - mae: 152988.4062 - mse: 61169483776.0000 - val_loss: 0.1156 - val_mae: 146508.3125 - val_mse: 57182154752.0000\n",
            "Epoch 99/100\n",
            "203/203 [==============================] - 1s 5ms/step - loss: 0.1246 - mae: 153499.8750 - mse: 60495187968.0000 - val_loss: 0.1152 - val_mae: 146104.8125 - val_mse: 57839398912.0000\n",
            "Epoch 100/100\n",
            "203/203 [==============================] - 1s 5ms/step - loss: 0.1240 - mae: 152840.4219 - mse: 59578068992.0000 - val_loss: 0.1148 - val_mae: 145360.2344 - val_mse: 55790432256.0000\n"
          ],
          "name": "stdout"
        },
        {
          "output_type": "execute_result",
          "data": {
            "text/plain": [
              "<tensorflow.python.keras.callbacks.History at 0x7f2ab023e978>"
            ]
          },
          "metadata": {
            "tags": []
          },
          "execution_count": 11
        }
      ]
    },
    {
      "cell_type": "markdown",
      "metadata": {
        "id": "5YwPoA3jtBn-",
        "colab_type": "text"
      },
      "source": [
        "# Inspect Loss"
      ]
    },
    {
      "cell_type": "code",
      "metadata": {
        "id": "XAouZbXB_nv7",
        "colab_type": "code",
        "colab": {
          "base_uri": "https://localhost:8080/",
          "height": 789
        },
        "outputId": "2166e5b0-2a57-4d56-fe3f-99a25bcb5715"
      },
      "source": [
        "losses = pd.DataFrame(model.history.history)\n",
        "losses[['val_mae', 'mae']].plot()\n",
        "losses[['val_mse', 'mse']].plot()\n",
        "losses[['val_loss', 'loss']].plot()"
      ],
      "execution_count": 12,
      "outputs": [
        {
          "output_type": "execute_result",
          "data": {
            "text/plain": [
              "<matplotlib.axes._subplots.AxesSubplot at 0x7f2a620610f0>"
            ]
          },
          "metadata": {
            "tags": []
          },
          "execution_count": 12
        },
        {
          "output_type": "display_data",
          "data": {
            "image/png": "[encoded data removed]",
            "text/plain": [
              "<Figure size 432x288 with 1 Axes>"
            ]
          },
          "metadata": {
            "tags": [],
            "needs_background": "light"
          }
        },
        {
          "output_type": "display_data",
          "data": {
            "image/png": "[encoded data removed]",
            "text/plain": [
              "<Figure size 432x288 with 1 Axes>"
            ]
          },
          "metadata": {
            "tags": [],
            "needs_background": "light"
          }
        },
        {
          "output_type": "display_data",
          "data": {
            "image/png": "[encoded data removed]",
            "text/plain": [
              "<Figure size 432x288 with 1 Axes>"
            ]
          },
          "metadata": {
            "tags": [],
            "needs_background": "light"
          }
        }
      ]
    },
    {
      "cell_type": "markdown",
      "metadata": {
        "id": "UsaPVmvftL0r",
        "colab_type": "text"
      },
      "source": [
        "# Make Predictions"
      ]
    },
    {
      "cell_type": "code",
      "metadata": {
        "id": "3X_JWIJkAS0t",
        "colab_type": "code",
        "colab": {
          "base_uri": "https://localhost:8080/",
          "height": 324
        },
        "outputId": "b98818b9-306d-407f-c0c1-68889efe8ecf"
      },
      "source": [
        "y_preds = model.predict(X_test)\n",
        "\n",
        "plt.scatter(y_test, y_preds)\n",
        "plt.plot(y_test, y_test, color='red')\n",
        "\n",
        "print(\"Mean Absolute Error:\", mean_absolute_error(y_test, y_preds))\n",
        "print(\"Mean Square Error:\", np.sqrt(mean_squared_error(y_test, y_preds)))"
      ],
      "execution_count": 13,
      "outputs": [
        {
          "output_type": "stream",
          "text": [
            "Mean Absolute Error: 149573.6016438614\n",
            "Mean Square Error: 244654.99367218025\n"
          ],
          "name": "stdout"
        },
        {
          "output_type": "display_data",
          "data": {
            "image/png": "[encoded data removed]",
            "text/plain": [
              "<Figure size 432x288 with 1 Axes>"
            ]
          },
          "metadata": {
            "tags": [],
            "needs_background": "light"
          }
        }
      ]
    },
    {
      "cell_type": "code",
      "metadata": {
        "id": "vEzYPClJNhst",
        "colab_type": "code",
        "colab": {
          "base_uri": "https://localhost:8080/",
          "height": 34
        },
        "outputId": "8200a4ff-f1c7-4377-db52-7de88f825c63"
      },
      "source": [
        "y_test.values"
      ],
      "execution_count": 14,
      "outputs": [
        {
          "output_type": "execute_result",
          "data": {
            "text/plain": [
              "array([ 449950.,  485000., 2000000., ..., 2250000.,  285000.,  527000.])"
            ]
          },
          "metadata": {
            "tags": []
          },
          "execution_count": 14
        }
      ]
    },
    {
      "cell_type": "code",
      "metadata": {
        "id": "TCa83jLFNMr-",
        "colab_type": "code",
        "colab": {
          "base_uri": "https://localhost:8080/",
          "height": 207
        },
        "outputId": "6b9ecef4-970d-48c3-f0a6-78b54cb30a86"
      },
      "source": [
        "loss_sum = 0\n",
        "for i in range(10):\n",
        "  rand_ind = random.sample(range(0, X_test.shape[0]), 3)\n",
        "  X_test_sample = X_test.values[rand_ind]\n",
        "  y_test_sample = y_test.values[rand_ind]\n",
        "  loss, mae, mse = model.evaluate(X_test_sample, y_test_sample, verbose=2)\n",
        "  loss_sum += loss\n",
        "\n",
        "loss_sum / 10"
      ],
      "execution_count": 15,
      "outputs": [
        {
          "output_type": "stream",
          "text": [
            "1/1 - 0s - loss: 0.0721 - mae: 137574.1094 - mse: 37568163840.0000\n",
            "1/1 - 0s - loss: 0.0308 - mae: 66927.8047 - mse: 5094172672.0000\n",
            "1/1 - 0s - loss: 0.0308 - mae: 87641.0000 - mse: 10606926848.0000\n",
            "1/1 - 0s - loss: 0.0503 - mae: 75570.8828 - mse: 7972781568.0000\n",
            "1/1 - 0s - loss: 0.0404 - mae: 94573.8984 - mse: 9748882432.0000\n",
            "1/1 - 0s - loss: 0.0652 - mae: 95708.6484 - mse: 9874495488.0000\n",
            "1/1 - 0s - loss: 0.1092 - mae: 106503.6484 - mse: 12299747328.0000\n",
            "1/1 - 0s - loss: 0.0467 - mae: 80668.3125 - mse: 6768341504.0000\n",
            "1/1 - 0s - loss: 0.0557 - mae: 91069.4453 - mse: 11423600640.0000\n",
            "1/1 - 0s - loss: 0.2161 - mae: 162531.7969 - mse: 41816195072.0000\n"
          ],
          "name": "stdout"
        },
        {
          "output_type": "execute_result",
          "data": {
            "text/plain": [
              "0.07174103930592537"
            ]
          },
          "metadata": {
            "tags": []
          },
          "execution_count": 15
        }
      ]
    }
  ]
}